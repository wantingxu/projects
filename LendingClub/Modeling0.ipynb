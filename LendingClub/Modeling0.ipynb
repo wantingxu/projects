{
 "cells": [
  {
   "cell_type": "markdown",
   "metadata": {},
   "source": [
    "This script predicts loan status using processed features and data from DataExploration0.ipynb. Parameter tuning is performed both by a grid search and by Bayes optimization."
   ]
  },
  {
   "cell_type": "code",
   "execution_count": 1,
   "metadata": {
    "collapsed": true
   },
   "outputs": [],
   "source": [
    "import numpy as np\n",
    "import pandas as pd\n",
    "import matplotlib.pyplot as plt\n",
    "%matplotlib inline\n",
    "import seaborn as sns\n",
    "from time import strptime\n",
    "\n",
    "from sklearn import preprocessing\n",
    "from sklearn.metrics import roc_curve, auc\n",
    "import xgboost as xgb\n",
    "from bayes_opt import BayesianOptimization"
   ]
  },
  {
   "cell_type": "code",
   "execution_count": 2,
   "metadata": {
    "collapsed": true
   },
   "outputs": [],
   "source": [
    "# define some helper functions\n",
    "\n",
    "def plotFeatureImportance(model, ntop):\n",
    "    model_fnames = dict(zip(model.feature_names,full_vars))\n",
    "    feature_importance = pd.DataFrame.from_dict(model.get_fscore(),orient='index')\n",
    "    feature_importance.rename(index=model_fnames, inplace=True)\n",
    "    feature_importance.columns = ['importance']\n",
    "    feature_importance.importance = feature_importance.importance/ feature_importance.importance.sum()\n",
    "    # plot \n",
    "    plt.figure()\n",
    "    feature_importance.sort_values(by='importance',ascending=False).head(ntop).\\\n",
    "        sort_values(by='importance').plot(kind='barh',figsize=(10,int(ntop/4)+1))\n",
    "    plt.title('top %d features' % ntop)\n",
    "    \n",
    "def plotROC(model):\n",
    "    res_train = model.predict(xgb.DMatrix(train_x))\n",
    "    res_val = model.predict(xgb.DMatrix(val_x))\n",
    "    res_test = model.predict(xgb.DMatrix(test[full_vars].values))\n",
    "\n",
    "    fpr_train, tpr_train, cut_train = roc_curve(y_true=train_y, y_score=res_train)\n",
    "    fpr_val,   tpr_val,   cut_val   = roc_curve(y_true=val_y  , y_score=res_val)\n",
    "    fpr_test,  tpr_test,  cut_test  = roc_curve(y_true=test_y , y_score=res_test)\n",
    "\n",
    "    auc_train = auc(x=fpr_train, y=tpr_train)\n",
    "    auc_val   = auc(x=fpr_val  , y=tpr_val)\n",
    "    auc_test  = auc(x=fpr_test , y=tpr_test)\n",
    "\n",
    "    print ('auc roc of train: %0.3f' % auc_train)\n",
    "    print ('auc roc of validation: %0.3f' % auc_val)\n",
    "    print ('auc roc of test: %0.3f' % auc_test)\n",
    "\n",
    "    # plot\n",
    "    plt.figure(figsize=(5,5))\n",
    "    plt.plot(fpr_train, tpr_train, label='auc roc train: %0.3f'%auc_train, color='red')\n",
    "    plt.plot(fpr_val, tpr_val, label='auc roc validation: %0.3f'%auc_val, color='blue')\n",
    "    plt.plot(fpr_test, tpr_test, label='auc roc test: %0.3f'%auc_test, color='black')\n",
    "    plt.plot([0,1],[0,1],'k--')\n",
    "    plt.xlim([0,1])\n",
    "    plt.ylim([0,1])\n",
    "    plt.xlabel('False Positive Rate')\n",
    "    plt.ylabel('True Positive Rate')\n",
    "    plt.legend(loc=\"lower right\")"
   ]
  },
  {
   "cell_type": "markdown",
   "metadata": {},
   "source": [
    "### setup fitting data"
   ]
  },
  {
   "cell_type": "code",
   "execution_count": 3,
   "metadata": {
    "collapsed": false
   },
   "outputs": [
    {
     "name": "stderr",
     "output_type": "stream",
     "text": [
      "/Users/wantingxu/anaconda2/lib/python2.7/site-packages/IPython/core/interactiveshell.py:2723: DtypeWarning: Columns (24) have mixed types. Specify dtype option on import or set low_memory=False.\n",
      "  interactivity=interactivity, compiler=compiler, result=result)\n"
     ]
    },
    {
     "name": "stdout",
     "output_type": "stream",
     "text": [
      "size of processed full data:  (211907, 128)\n",
      "number of numeric and categorical features are: 71, 8\n"
     ]
    }
   ],
   "source": [
    "# load processed data and features\n",
    "df = pd.read_csv('../data/train_test2014.csv')\n",
    "print 'size of processed full data: ',df.shape\n",
    "\n",
    "import pickle\n",
    "with open('../data/fnames.pickle','r') as f:\n",
    "    fnames_numeric, fnames_le, fnames_obj = pickle.load(f)\n",
    "print 'number of numeric and categorical features are: %d, %d' % (len(fnames_numeric),len(fnames_le))"
   ]
  },
  {
   "cell_type": "code",
   "execution_count": 4,
   "metadata": {
    "collapsed": false
   },
   "outputs": [
    {
     "name": "stdout",
     "output_type": "stream",
     "text": [
      "('train data size', (146996, 128), 'test data size', (64911, 128))\n"
     ]
    }
   ],
   "source": [
    "# train-test split\n",
    "full_vars = fnames_numeric + fnames_le\n",
    "#full_vars = fnames_numeric\n",
    "full_vars = [x for x in full_vars if x not in \\\n",
    "    ['lastcreditpulld_iss_diff']]\n",
    "target_var = 'loanstatus'\n",
    "\n",
    "train = df.query('fitting_flag==1')\n",
    "y = df.query('fitting_flag==1')[target_var].values\n",
    "test = df.query('fitting_flag==0')\n",
    "test_y = df.query('fitting_flag==0')[target_var].values\n",
    "\n",
    "print ('train data size', train.shape, 'test data size', test.shape)"
   ]
  },
  {
   "cell_type": "code",
   "execution_count": 5,
   "metadata": {
    "collapsed": false
   },
   "outputs": [
    {
     "name": "stdout",
     "output_type": "stream",
     "text": [
      "('train size', (94093, 78), 'validation size', (52903, 78), 'sum', 146996)\n"
     ]
    }
   ],
   "source": [
    "# train-validation split\n",
    "train_x = train.query(\"issued not in ['Jul-2014','Aug-2014','Sep-2014']\")[full_vars].values\n",
    "train_y = train.query(\"issued not in ['Jul-2014','Aug-2014','Sep-2014']\")[target_var].values\n",
    "\n",
    "val_x = train.query(\"issued in ['Jul-2014','Aug-2014','Sep-2014']\")[full_vars].values\n",
    "val_y = train.query(\"issued in ['Jul-2014','Aug-2014','Sep-2014']\")[target_var].values\n",
    "\n",
    "print ('train size', train_x.shape, 'validation size', val_x.shape, 'sum', train_x.shape[0]+val_x.shape[0])"
   ]
  },
  {
   "cell_type": "code",
   "execution_count": 6,
   "metadata": {
    "collapsed": true
   },
   "outputs": [],
   "source": [
    "# define xgb matrices\n",
    "xgtrain = xgb.DMatrix(train_x, label=train_y)\n",
    "xgval = xgb.DMatrix(val_x, label=val_y)\n",
    "watchlist = [(xgtrain,'train'),(xgval,'eval')]"
   ]
  },
  {
   "cell_type": "markdown",
   "metadata": {},
   "source": [
    "### default parameters"
   ]
  },
  {
   "cell_type": "code",
   "execution_count": 7,
   "metadata": {
    "collapsed": false
   },
   "outputs": [
    {
     "name": "stdout",
     "output_type": "stream",
     "text": [
      "[0]\ttrain-auc:0.860701\teval-auc:0.847128\n",
      "Multiple eval metrics have been passed: 'eval-auc' will be used for early stopping.\n",
      "\n",
      "Will train until eval-auc hasn't improved in 50 rounds.\n",
      "[50]\ttrain-auc:0.895686\teval-auc:0.869404\n",
      "[100]\ttrain-auc:0.912325\teval-auc:0.871176\n",
      "Stopping. Best iteration:\n",
      "[94]\ttrain-auc:0.910818\teval-auc:0.871263\n",
      "\n",
      "best_score: 0.871263, best_iteration: 94\n"
     ]
    }
   ],
   "source": [
    "# a baseline fitting\n",
    "params={\n",
    "    'objective': 'binary:logistic',\n",
    "    'eval_metric': 'auc',\n",
    "    'seed':1234,\n",
    "    'eta':0.1,\n",
    "    'gamma':0,\n",
    "    'max_depth':6,\n",
    "    'min_child_weight':1,\n",
    "    'colsample_bytree':1,\n",
    "    'subsample':1\n",
    "}\n",
    "\n",
    "model_base = xgb.train(params, xgtrain, num_boost_round=100000, evals=watchlist,\\\n",
    "    early_stopping_rounds=50, verbose_eval=50)\n",
    "best_iteration = model_base.best_iteration\n",
    "best_score = model_base.best_score\n",
    "print ('best_score: %f, best_iteration: %d' % (best_score, best_iteration))"
   ]
  },
  {
   "cell_type": "code",
   "execution_count": 8,
   "metadata": {
    "collapsed": false
   },
   "outputs": [
    {
     "name": "stdout",
     "output_type": "stream",
     "text": [
      "auc roc of train: 0.922\n",
      "auc roc of validation: 0.871\n",
      "auc roc of test: 0.834\n"
     ]
    },
    {
     "data": {
      "image/png": "[encoded data removed]",
      "text/plain": [
       "<matplotlib.figure.Figure at 0x117b4ee50>"
      ]
     },
     "metadata": {},
     "output_type": "display_data"
    },
    {
     "data": {
      "text/plain": [
       "<matplotlib.figure.Figure at 0x121345ad0>"
      ]
     },
     "metadata": {},
     "output_type": "display_data"
    },
    {
     "data": {
      "image/png": "[encoded data removed]",
      "text/plain": [
       "<matplotlib.figure.Figure at 0x1080c89d0>"
      ]
     },
     "metadata": {},
     "output_type": "display_data"
    }
   ],
   "source": [
    "plotROC(model_base)\n",
    "plotFeatureImportance(model_base, 10)"
   ]
  },
  {
   "cell_type": "markdown",
   "metadata": {},
   "source": [
    "### manual tuning by grid search"
   ]
  },
  {
   "cell_type": "code",
   "execution_count": 9,
   "metadata": {
    "collapsed": true
   },
   "outputs": [],
   "source": [
    "# gamma: minimum loss reduction required to make a further partition on a leaf node of the tree.\n",
    "# max_depth: maximum depth of a tree.\n",
    "# min_child_weight: minimum sum of instance weight (hessian) needed in a child.\n",
    "# subsample: subsample ratio of the training instance.\n",
    "# colsample_bytree: subsample ratio of columns when constructing each tree."
   ]
  },
  {
   "cell_type": "code",
   "execution_count": 10,
   "metadata": {
    "collapsed": true
   },
   "outputs": [],
   "source": [
    "# grid search space\n",
    "xgb_par_space={}\n",
    "xgb_par_space['max_depth']=[4, 5, 6, 7, 8, 9, 10]\n",
    "xgb_par_space['gamma']=[0, 0.5, 1, 1.5, 2, 3]\n",
    "xgb_par_space['min_child_weight']=[0, 1, 3, 5, 10, 30, 50]\n",
    "xgb_par_space['colsample_bytree']=[0.1, 0.2, 0.3, 0.4, 0.5, 0.6, 0.7, 0.8, 0.9, 1]\n",
    "xgb_par_space['subsample']=[0.1, 0.2, 0.3, 0.4, 0.5, 0.6, 0.7, 0.8, 0.9, 1]\n",
    "\n",
    "# starting values\n",
    "xgb_params = {\n",
    "    'max_depth': 6, 'colsample_bytree': 1, 'gamma':0, 'min_child_weight': 1,'subsample': 1, \\\n",
    "    'eta': 0.1, 'seed': 1234, 'silent':1, 'objective': 'binary:logistic', 'eval_metric':'auc'}"
   ]
  },
  {
   "cell_type": "code",
   "execution_count": 11,
   "metadata": {
    "collapsed": false,
    "scrolled": true
   },
   "outputs": [
    {
     "name": "stdout",
     "output_type": "stream",
     "text": [
      "Tuning parameter subsample in [0.1, 0.2, 0.3, 0.4, 0.5, 0.6, 0.7, 0.8, 0.9, 1]\n",
      "    subsample: 0.1\n",
      ", best_score: 0.861809, best_iteration: 77\n",
      "    subsample: 0.2\n",
      ", best_score: 0.867049, best_iteration: 65\n",
      "    subsample: 0.3\n",
      ", best_score: 0.869245, best_iteration: 67\n",
      "    subsample: 0.4\n",
      ", best_score: 0.870373, best_iteration: 75\n",
      "    subsample: 0.5\n",
      ", best_score: 0.870463, best_iteration: 98\n",
      "    subsample: 0.6\n",
      ", best_score: 0.871006, best_iteration: 96\n",
      "    subsample: 0.7\n",
      ", best_score: 0.872042, best_iteration: 109\n",
      "    subsample: 0.8\n",
      ", best_score: 0.871776, best_iteration: 109\n",
      "    subsample: 0.9\n",
      ", best_score: 0.871964, best_iteration: 94\n",
      "    subsample: 1\n",
      ", best_score: 0.871263, best_iteration: 94\n",
      "Best subsample is 0.7 with a score of 0.872042\n",
      "Tuning parameter colsample_bytree in [0.1, 0.2, 0.3, 0.4, 0.5, 0.6, 0.7, 0.8, 0.9, 1]\n",
      "    colsample_bytree: 0.1\n",
      ", best_score: 0.868807, best_iteration: 228\n",
      "    colsample_bytree: 0.2\n",
      ", best_score: 0.871114, best_iteration: 150\n",
      "    colsample_bytree: 0.3\n",
      ", best_score: 0.871473, best_iteration: 143\n",
      "    colsample_bytree: 0.4\n",
      ", best_score: 0.871973, best_iteration: 112\n",
      "    colsample_bytree: 0.5\n",
      ", best_score: 0.871961, best_iteration: 108\n",
      "    colsample_bytree: 0.6\n",
      ", best_score: 0.871824, best_iteration: 92\n",
      "    colsample_bytree: 0.7\n",
      ", best_score: 0.872187, best_iteration: 102\n",
      "    colsample_bytree: 0.8\n",
      ", best_score: 0.871733, best_iteration: 84\n",
      "    colsample_bytree: 0.9\n",
      ", best_score: 0.871465, best_iteration: 135\n",
      "    colsample_bytree: 1\n",
      ", best_score: 0.872042, best_iteration: 109\n",
      "Best colsample_bytree is 0.7 with a score of 0.872187\n",
      "Tuning parameter max_depth in [4, 5, 6, 7, 8, 9, 10]\n",
      "    max_depth: 4\n",
      ", best_score: 0.872741, best_iteration: 197\n",
      "    max_depth: 5\n",
      ", best_score: 0.872952, best_iteration: 160\n",
      "    max_depth: 6\n",
      ", best_score: 0.872187, best_iteration: 102\n",
      "    max_depth: 7\n",
      ", best_score: 0.871963, best_iteration: 73\n",
      "    max_depth: 8\n",
      ", best_score: 0.870614, best_iteration: 76\n",
      "    max_depth: 9\n",
      ", best_score: 0.868363, best_iteration: 59\n",
      "    max_depth: 10\n",
      ", best_score: 0.869073, best_iteration: 56\n",
      "Best max_depth is 5 with a score of 0.872952\n",
      "Tuning parameter gamma in [0, 0.5, 1, 1.5, 2, 3]\n",
      "    gamma: 0\n",
      ", best_score: 0.872952, best_iteration: 160\n",
      "    gamma: 0.5\n",
      ", best_score: 0.872767, best_iteration: 140\n",
      "    gamma: 1\n",
      ", best_score: 0.872820, best_iteration: 140\n",
      "    gamma: 1.5\n",
      ", best_score: 0.872424, best_iteration: 175\n",
      "    gamma: 2\n",
      ", best_score: 0.872861, best_iteration: 161\n",
      "    gamma: 3\n",
      ", best_score: 0.872750, best_iteration: 135\n",
      "Best gamma is 0 with a score of 0.872952\n",
      "Tuning parameter min_child_weight in [0, 1, 3, 5, 10, 30, 50]\n",
      "    min_child_weight: 0\n",
      ", best_score: 0.872318, best_iteration: 91\n",
      "    min_child_weight: 1\n",
      ", best_score: 0.872952, best_iteration: 160\n",
      "    min_child_weight: 3\n",
      ", best_score: 0.872989, best_iteration: 190\n",
      "    min_child_weight: 5\n",
      ", best_score: 0.873042, best_iteration: 158\n",
      "    min_child_weight: 10\n",
      ", best_score: 0.872560, best_iteration: 200\n",
      "    min_child_weight: 30\n",
      ", best_score: 0.873359, best_iteration: 174\n",
      "    min_child_weight: 50\n",
      ", best_score: 0.873171, best_iteration: 197\n",
      "Best min_child_weight is 30 with a score of 0.873359\n"
     ]
    }
   ],
   "source": [
    "xgb_par_name = ['subsample','colsample_bytree','max_depth','gamma','min_child_weight']\n",
    "\n",
    "all_scores={}\n",
    "for p in xgb_par_name:\n",
    "    print (\"Tuning parameter %s in %s\" % (p, xgb_par_space[p]))\n",
    "    params = xgb_params\n",
    "    scores = []\n",
    "    for v in xgb_par_space[p]:\n",
    "        print ('    %s: %s' % (p, v))\n",
    "        params[p] = v\n",
    "        model = xgb.train(params,xgtrain,num_boost_round=100000,\\\n",
    "            evals=watchlist, early_stopping_rounds=50, verbose_eval=False)\n",
    "        best_iteration = model.best_iteration\n",
    "        best_score = model.best_score\n",
    "        print (', best_score: %f, best_iteration: %d' % (best_score, best_iteration))\n",
    "        scores.append([v, best_score])\n",
    "    best_param_value = sorted(scores, key=lambda x:x[1],reverse=True)[0][0]\n",
    "    best_param_score = sorted(scores, key=lambda x:x[1],reverse=True)[0][1]\n",
    "    xgb_params[p] = best_param_value\n",
    "    all_scores[p]=scores\n",
    "    print (\"Best %s is %s with a score of %f\" %(p, best_param_value, best_param_score))"
   ]
  },
  {
   "cell_type": "markdown",
   "metadata": {},
   "source": [
    "* finer search for selected parameters"
   ]
  },
  {
   "cell_type": "code",
   "execution_count": 12,
   "metadata": {
    "collapsed": false,
    "scrolled": true
   },
   "outputs": [
    {
     "name": "stdout",
     "output_type": "stream",
     "text": [
      "Tuning parameter min_child_weight in [15, 20, 25, 28, 30, 32, 35, 40, 45]\n",
      "    min_child_weight: 15\n",
      ", best_score: 0.872837, best_iteration: 204\n",
      "    min_child_weight: 20\n",
      ", best_score: 0.873242, best_iteration: 189\n",
      "    min_child_weight: 25\n",
      ", best_score: 0.873124, best_iteration: 200\n",
      "    min_child_weight: 28\n",
      ", best_score: 0.873440, best_iteration: 197\n",
      "    min_child_weight: 30\n",
      ", best_score: 0.873359, best_iteration: 174\n",
      "    min_child_weight: 32\n",
      ", best_score: 0.873068, best_iteration: 197\n",
      "    min_child_weight: 35\n",
      ", best_score: 0.872791, best_iteration: 206\n",
      "    min_child_weight: 40\n",
      ", best_score: 0.872972, best_iteration: 141\n",
      "    min_child_weight: 45\n",
      ", best_score: 0.873040, best_iteration: 192\n",
      "Best min_child_weight is 28 with a score of 0.873440\n",
      "Tuning parameter subsample in [0.63, 0.65, 0.68, 0.7, 0.72, 0.75, 0.77]\n",
      "    subsample: 0.63\n",
      ", best_score: 0.873567, best_iteration: 175\n",
      "    subsample: 0.65\n",
      ", best_score: 0.873300, best_iteration: 217\n",
      "    subsample: 0.68\n",
      ", best_score: 0.872843, best_iteration: 192\n",
      "    subsample: 0.7\n",
      ", best_score: 0.873440, best_iteration: 197\n",
      "    subsample: 0.72\n",
      ", best_score: 0.872768, best_iteration: 199\n",
      "    subsample: 0.75\n",
      ", best_score: 0.873012, best_iteration: 191\n",
      "    subsample: 0.77\n",
      ", best_score: 0.873844, best_iteration: 215\n",
      "Best subsample is 0.77 with a score of 0.873844\n",
      "Tuning parameter colsample_bytree in [0.63, 0.65, 0.68, 0.7, 0.72, 0.75, 0.77]\n",
      "    colsample_bytree: 0.63\n",
      ", best_score: 0.872949, best_iteration: 215\n",
      "    colsample_bytree: 0.65\n",
      ", best_score: 0.873040, best_iteration: 161\n",
      "    colsample_bytree: 0.68\n",
      ", best_score: 0.873505, best_iteration: 199\n",
      "    colsample_bytree: 0.7\n",
      ", best_score: 0.873844, best_iteration: 215\n",
      "    colsample_bytree: 0.72\n",
      ", best_score: 0.873574, best_iteration: 205\n",
      "    colsample_bytree: 0.75\n",
      ", best_score: 0.873403, best_iteration: 141\n",
      "    colsample_bytree: 0.77\n",
      ", best_score: 0.873090, best_iteration: 129\n",
      "Best colsample_bytree is 0.7 with a score of 0.873844\n"
     ]
    }
   ],
   "source": [
    "# finer search space for selected parameters\n",
    "xgb_par_space={}\n",
    "xgb_par_space['min_child_weight']=[15, 20, 25, 28, 30, 32, 35, 40, 45]\n",
    "xgb_par_space['colsample_bytree']=[0.63, 0.65, 0.68, 0.7, 0.72, 0.75, 0.77]\n",
    "xgb_par_space['subsample']=[0.63, 0.65, 0.68, 0.7, 0.72, 0.75, 0.77]\n",
    "\n",
    "xgb_par_name = ['min_child_weight','subsample','colsample_bytree']\n",
    "\n",
    "all_scores1={}\n",
    "for p in xgb_par_name:\n",
    "    print (\"Tuning parameter %s in %s\" % (p, xgb_par_space[p]))\n",
    "    params = xgb_params\n",
    "    scores = []\n",
    "    for v in xgb_par_space[p]:\n",
    "        print ('    %s: %s' % (p, v))\n",
    "        params[p] = v\n",
    "        model = xgb.train(params,xgtrain,num_boost_round=100000,\\\n",
    "            evals=watchlist, early_stopping_rounds=50, verbose_eval=False)\n",
    "        best_iteration = model.best_iteration\n",
    "        best_score = model.best_score\n",
    "        print (', best_score: %f, best_iteration: %d' % (best_score, best_iteration))\n",
    "        scores.append([v, best_score])\n",
    "    best_param_value = sorted(scores, key=lambda x:x[1],reverse=True)[0][0]\n",
    "    best_param_score = sorted(scores, key=lambda x:x[1],reverse=True)[0][1]\n",
    "    xgb_params[p] = best_param_value\n",
    "    all_scores1[p]=scores\n",
    "    print (\"Best %s is %s with a score of %f\" %(p, best_param_value, best_param_score))"
   ]
  },
  {
   "cell_type": "code",
   "execution_count": 13,
   "metadata": {
    "collapsed": true
   },
   "outputs": [],
   "source": [
    "xgb_man_par = xgb_params\n",
    "xgb_man_score = best_param_score"
   ]
  },
  {
   "cell_type": "markdown",
   "metadata": {},
   "source": [
    "* finer tuned model result"
   ]
  },
  {
   "cell_type": "code",
   "execution_count": 14,
   "metadata": {
    "collapsed": false
   },
   "outputs": [
    {
     "name": "stdout",
     "output_type": "stream",
     "text": [
      "[0]\ttrain-auc:0.850085\teval-auc:0.837539\n",
      "Multiple eval metrics have been passed: 'eval-auc' will be used for early stopping.\n",
      "\n",
      "Will train until eval-auc hasn't improved in 50 rounds.\n",
      "[50]\ttrain-auc:0.883776\teval-auc:0.869487\n",
      "[100]\ttrain-auc:0.892978\teval-auc:0.87289\n",
      "[150]\ttrain-auc:0.900033\teval-auc:0.873636\n",
      "[200]\ttrain-auc:0.905933\teval-auc:0.873786\n",
      "[250]\ttrain-auc:0.910798\teval-auc:0.873709\n",
      "Stopping. Best iteration:\n",
      "[215]\ttrain-auc:0.907486\teval-auc:0.873844\n",
      "\n",
      "best_score: 0.873844, best_iteration: 215\n"
     ]
    }
   ],
   "source": [
    "model_man = xgb.train(xgb_man_par, xgtrain, num_boost_round=100000, evals=watchlist,\\\n",
    "    early_stopping_rounds=50, verbose_eval=50)\n",
    "best_iteration = model_man.best_iteration\n",
    "best_score = model_man.best_score\n",
    "print ('best_score: %f, best_iteration: %d' % (best_score, best_iteration))"
   ]
  },
  {
   "cell_type": "code",
   "execution_count": 15,
   "metadata": {
    "collapsed": false
   },
   "outputs": [
    {
     "name": "stdout",
     "output_type": "stream",
     "text": [
      "auc roc of train: 0.912\n",
      "auc roc of validation: 0.874\n",
      "auc roc of test: 0.838\n"
     ]
    },
    {
     "data": {
      "image/png": "[encoded data removed]",
      "text/plain": [
       "<matplotlib.figure.Figure at 0x10ee255d0>"
      ]
     },
     "metadata": {},
     "output_type": "display_data"
    },
    {
     "data": {
      "text/plain": [
       "<matplotlib.figure.Figure at 0x121e27d90>"
      ]
     },
     "metadata": {},
     "output_type": "display_data"
    },
    {
     "data": {
      "image/png": "[encoded data removed]",
      "text/plain": [
       "<matplotlib.figure.Figure at 0x121875d50>"
      ]
     },
     "metadata": {},
     "output_type": "display_data"
    }
   ],
   "source": [
    "plotROC(model_man)\n",
    "plotFeatureImportance(model_man, 10)"
   ]
  },
  {
   "cell_type": "markdown",
   "metadata": {},
   "source": [
    "### automated tuning by Bayes optimization"
   ]
  },
  {
   "cell_type": "code",
   "execution_count": 16,
   "metadata": {
    "collapsed": true
   },
   "outputs": [],
   "source": [
    "# define xgb model evaluation function\n",
    "\n",
    "def xgb_evaluate(subsample, colsample_bytree, min_child_weight, max_depth, gamma):\n",
    "    params = dict()\n",
    "    params['objective'] = 'binary:logistic'\n",
    "    params['eta'] = 0.1\n",
    "    params['max_depth'] = int(max_depth )   \n",
    "    params['min_child_weight'] = int(min_child_weight)\n",
    "    params['colsample_bytree'] = colsample_bytree\n",
    "    params['subsample'] = subsample\n",
    "    params['gamma'] = gamma\n",
    "    params['seed'] = 1234  \n",
    "    params['eval_metric'] = 'auc'  \n",
    "    params['silent'] = 1\n",
    "\n",
    "    model = xgb.train(params, xgtrain, num_boost_round=100000, evals=watchlist,\\\n",
    "        early_stopping_rounds=50, verbose_eval=False)   \n",
    "    best_iteration = model.best_iteration\n",
    "    best_score = model.best_score\n",
    "\n",
    "    print (', best_score: %f, best_iteration: %d' % (best_score, best_iteration))\n",
    "\n",
    "    return best_score"
   ]
  },
  {
   "cell_type": "code",
   "execution_count": 17,
   "metadata": {
    "collapsed": false,
    "scrolled": true
   },
   "outputs": [
    {
     "name": "stdout",
     "output_type": "stream",
     "text": [
      "\u001b[31mInitialization\u001b[0m\n",
      "\u001b[94m---------------------------------------------------------------------------------------------------------------\u001b[0m\n",
      " Step |   Time |      Value |   colsample_bytree |     gamma |   max_depth |   min_child_weight |   subsample | \n",
      ", best_score: 0.872723, best_iteration: 236\n",
      "    1 | 01m00s | \u001b[35m   0.87272\u001b[0m | \u001b[32m            0.9853\u001b[0m | \u001b[32m   0.1882\u001b[0m | \u001b[32m     4.5447\u001b[0m | \u001b[32m            0.0455\u001b[0m | \u001b[32m     0.9760\u001b[0m | \n",
      ", best_score: 0.872348, best_iteration: 232\n",
      "    2 | 00m36s |    0.87235 |             0.5223 |    2.8630 |      4.7195 |            29.0403 |      0.6578 | \n",
      ", best_score: 0.872588, best_iteration: 109\n",
      "    3 | 00m55s |    0.87259 |             0.7427 |    0.2726 |      9.4653 |            37.4531 |      0.9098 | \n",
      ", best_score: 0.871671, best_iteration: 93\n",
      "    4 | 00m51s |    0.87167 |             0.7261 |    0.4662 |      9.2642 |            13.3976 |      0.9870 | \n",
      ", best_score: 0.872840, best_iteration: 102\n",
      "    5 | 00m51s | \u001b[35m   0.87284\u001b[0m | \u001b[32m            0.7192\u001b[0m | \u001b[32m   2.0878\u001b[0m | \u001b[32m     9.5597\u001b[0m | \u001b[32m           28.8939\u001b[0m | \u001b[32m     0.8345\u001b[0m | \n",
      "\u001b[31mBayesian Optimization\u001b[0m\n",
      "\u001b[94m---------------------------------------------------------------------------------------------------------------\u001b[0m\n",
      " Step |   Time |      Value |   colsample_bytree |     gamma |   max_depth |   min_child_weight |   subsample | \n",
      ", best_score: 0.868913, best_iteration: 59\n",
      "    6 | 00m51s |    0.86891 |             0.7135 |    2.9747 |      9.9385 |             0.4739 |      0.5683 | \n",
      ", best_score: 0.873236, best_iteration: 307\n",
      "    7 | 01m32s | \u001b[35m   0.87324\u001b[0m | \u001b[32m            0.9861\u001b[0m | \u001b[32m   2.7701\u001b[0m | \u001b[32m     4.5589\u001b[0m | \u001b[32m           37.7499\u001b[0m | \u001b[32m     0.9872\u001b[0m | \n"
     ]
    },
    {
     "name": "stderr",
     "output_type": "stream",
     "text": [
      "/Users/wantingxu/anaconda2/lib/python2.7/site-packages/sklearn/gaussian_process/gpr.py:308: UserWarning: Predicted variances smaller than 0. Setting those variances to 0.\n",
      "  warnings.warn(\"Predicted variances smaller than 0. \"\n"
     ]
    },
    {
     "name": "stdout",
     "output_type": "stream",
     "text": [
      ", best_score: 0.872268, best_iteration: 167\n",
      "    8 | 00m58s |    0.87227 |             0.9815 |    0.1746 |      4.4313 |            19.5744 |      0.5077 | \n",
      ", best_score: 0.872838, best_iteration: 219\n",
      "    9 | 01m12s |    0.87284 |             0.9852 |    2.8981 |      4.3988 |            13.4339 |      0.9622 | \n",
      ", best_score: 0.871642, best_iteration: 75\n",
      "   10 | 01m06s |    0.87164 |             0.9462 |    2.8544 |      9.9871 |            39.7065 |      0.7127 | \n"
     ]
    },
    {
     "name": "stderr",
     "output_type": "stream",
     "text": [
      "/Users/wantingxu/anaconda2/lib/python2.7/site-packages/sklearn/gaussian_process/gpr.py:427: UserWarning: fmin_l_bfgs_b terminated abnormally with the  state: {'warnflag': 2, 'task': 'ABNORMAL_TERMINATION_IN_LNSRCH', 'grad': array([-0.00021705]), 'nit': 7, 'funcalls': 62}\n",
      "  \" state: %s\" % convergence_dict)\n"
     ]
    },
    {
     "name": "stdout",
     "output_type": "stream",
     "text": [
      ", best_score: 0.873465, best_iteration: 260\n",
      "   11 | 01m22s | \u001b[35m   0.87347\u001b[0m | \u001b[32m            0.9963\u001b[0m | \u001b[32m   0.2554\u001b[0m | \u001b[32m     4.0862\u001b[0m | \u001b[32m           27.0659\u001b[0m | \u001b[32m     0.9928\u001b[0m | \n"
     ]
    },
    {
     "name": "stderr",
     "output_type": "stream",
     "text": [
      "/Users/wantingxu/anaconda2/lib/python2.7/site-packages/sklearn/gaussian_process/gpr.py:427: UserWarning: fmin_l_bfgs_b terminated abnormally with the  state: {'warnflag': 2, 'task': 'ABNORMAL_TERMINATION_IN_LNSRCH', 'grad': array([-0.00037995]), 'nit': 5, 'funcalls': 55}\n",
      "  \" state: %s\" % convergence_dict)\n"
     ]
    },
    {
     "name": "stdout",
     "output_type": "stream",
     "text": [
      ", best_score: 0.873580, best_iteration: 218\n",
      "   12 | 01m25s | \u001b[35m   0.87358\u001b[0m | \u001b[32m            0.9868\u001b[0m | \u001b[32m   2.9284\u001b[0m | \u001b[32m     5.8305\u001b[0m | \u001b[32m           30.1187\u001b[0m | \u001b[32m     0.9852\u001b[0m | \n",
      ", best_score: 0.872419, best_iteration: 96\n",
      "   13 | 01m13s |    0.87242 |             0.9952 |    0.3999 |      8.2662 |            28.8400 |      0.9844 | \n"
     ]
    },
    {
     "name": "stderr",
     "output_type": "stream",
     "text": [
      "/Users/wantingxu/anaconda2/lib/python2.7/site-packages/sklearn/gaussian_process/gpr.py:427: UserWarning: fmin_l_bfgs_b terminated abnormally with the  state: {'warnflag': 2, 'task': 'ABNORMAL_TERMINATION_IN_LNSRCH', 'grad': array([ -2.60564120e-05]), 'nit': 5, 'funcalls': 58}\n",
      "  \" state: %s\" % convergence_dict)\n"
     ]
    },
    {
     "name": "stdout",
     "output_type": "stream",
     "text": [
      ", best_score: 0.872868, best_iteration: 259\n",
      "   14 | 00m54s |    0.87287 |             0.5084 |    0.0790 |      4.0362 |             8.6393 |      0.9453 | \n",
      ", best_score: 0.872805, best_iteration: 271\n",
      "   15 | 00m59s |    0.87281 |             0.5080 |    2.2463 |      4.4354 |            20.9178 |      0.9999 | \n",
      ", best_score: 0.873302, best_iteration: 386\n",
      "   16 | 01m48s |    0.87330 |             0.9768 |    0.0479 |      4.1834 |            39.4881 |      0.9514 | \n",
      ", best_score: 0.873301, best_iteration: 302\n",
      "   17 | 01m05s |    0.87330 |             0.5456 |    0.2441 |      4.1644 |            34.8714 |      0.9953 | \n",
      ", best_score: 0.872453, best_iteration: 103\n",
      "   18 | 01m23s |    0.87245 |             0.9417 |    2.9323 |      9.7922 |            22.8826 |      0.9970 | \n",
      ", best_score: 0.869481, best_iteration: 56\n",
      "   19 | 01m06s |    0.86948 |             0.9800 |    0.0532 |      9.7994 |             1.5172 |      0.9171 | \n"
     ]
    },
    {
     "name": "stderr",
     "output_type": "stream",
     "text": [
      "/Users/wantingxu/anaconda2/lib/python2.7/site-packages/sklearn/gaussian_process/gpr.py:427: UserWarning: fmin_l_bfgs_b terminated abnormally with the  state: {'warnflag': 2, 'task': 'ABNORMAL_TERMINATION_IN_LNSRCH', 'grad': array([ 0.0002935]), 'nit': 4, 'funcalls': 50}\n",
      "  \" state: %s\" % convergence_dict)\n",
      "/Users/wantingxu/anaconda2/lib/python2.7/site-packages/sklearn/gaussian_process/gpr.py:427: UserWarning: fmin_l_bfgs_b terminated abnormally with the  state: {'warnflag': 2, 'task': 'ABNORMAL_TERMINATION_IN_LNSRCH', 'grad': array([ -3.08714443e-05]), 'nit': 7, 'funcalls': 58}\n",
      "  \" state: %s\" % convergence_dict)\n"
     ]
    },
    {
     "name": "stdout",
     "output_type": "stream",
     "text": [
      ", best_score: 0.873046, best_iteration: 93\n",
      "   20 | 01m08s |    0.87305 |             0.7537 |    2.8560 |      9.9530 |            33.9419 |      0.9889 | \n",
      ", best_score: 0.872794, best_iteration: 330\n",
      "   21 | 01m36s |    0.87279 |             0.9558 |    2.8652 |      4.0599 |             2.2782 |      0.9851 | \n"
     ]
    },
    {
     "name": "stderr",
     "output_type": "stream",
     "text": [
      "/Users/wantingxu/anaconda2/lib/python2.7/site-packages/sklearn/gaussian_process/gpr.py:427: UserWarning: fmin_l_bfgs_b terminated abnormally with the  state: {'warnflag': 2, 'task': 'ABNORMAL_TERMINATION_IN_LNSRCH', 'grad': array([ -8.68150382e-05]), 'nit': 5, 'funcalls': 51}\n",
      "  \" state: %s\" % convergence_dict)\n"
     ]
    },
    {
     "name": "stdout",
     "output_type": "stream",
     "text": [
      ", best_score: 0.873306, best_iteration: 291\n",
      "   22 | 01m27s |    0.87331 |             0.9716 |    2.8239 |      4.0009 |            32.0278 |      0.9646 | \n"
     ]
    },
    {
     "name": "stderr",
     "output_type": "stream",
     "text": [
      "/Users/wantingxu/anaconda2/lib/python2.7/site-packages/sklearn/gaussian_process/gpr.py:427: UserWarning: fmin_l_bfgs_b terminated abnormally with the  state: {'warnflag': 2, 'task': 'ABNORMAL_TERMINATION_IN_LNSRCH', 'grad': array([ -4.47295315e-05]), 'nit': 6, 'funcalls': 54}\n",
      "  \" state: %s\" % convergence_dict)\n"
     ]
    },
    {
     "name": "stdout",
     "output_type": "stream",
     "text": [
      ", best_score: 0.872602, best_iteration: 97\n",
      "   23 | 00m53s |    0.87260 |             0.5393 |    1.5544 |      8.0153 |            39.9162 |      0.9942 | \n"
     ]
    },
    {
     "name": "stderr",
     "output_type": "stream",
     "text": [
      "/Users/wantingxu/anaconda2/lib/python2.7/site-packages/sklearn/gaussian_process/gpr.py:427: UserWarning: fmin_l_bfgs_b terminated abnormally with the  state: {'warnflag': 2, 'task': 'ABNORMAL_TERMINATION_IN_LNSRCH', 'grad': array([ -3.17334197e-05]), 'nit': 5, 'funcalls': 53}\n",
      "  \" state: %s\" % convergence_dict)\n"
     ]
    },
    {
     "name": "stdout",
     "output_type": "stream",
     "text": [
      ", best_score: 0.873114, best_iteration: 248\n",
      "   24 | 01m16s |    0.87311 |             0.9031 |    0.2320 |      4.1745 |            14.7378 |      0.9950 | \n",
      ", best_score: 0.872879, best_iteration: 210\n",
      "   25 | 01m13s |    0.87288 |             0.9944 |    0.1408 |      4.0531 |             6.7636 |      0.9856 | \n"
     ]
    },
    {
     "name": "stderr",
     "output_type": "stream",
     "text": [
      "/Users/wantingxu/anaconda2/lib/python2.7/site-packages/sklearn/gaussian_process/gpr.py:427: UserWarning: fmin_l_bfgs_b terminated abnormally with the  state: {'warnflag': 2, 'task': 'ABNORMAL_TERMINATION_IN_LNSRCH', 'grad': array([-0.00018813]), 'nit': 5, 'funcalls': 54}\n",
      "  \" state: %s\" % convergence_dict)\n",
      "/Users/wantingxu/anaconda2/lib/python2.7/site-packages/sklearn/gaussian_process/gpr.py:427: UserWarning: fmin_l_bfgs_b terminated abnormally with the  state: {'warnflag': 2, 'task': 'ABNORMAL_TERMINATION_IN_LNSRCH', 'grad': array([-0.00018936]), 'nit': 5, 'funcalls': 54}\n",
      "  \" state: %s\" % convergence_dict)\n"
     ]
    },
    {
     "name": "stdout",
     "output_type": "stream",
     "text": [
      ", best_score: 0.873139, best_iteration: 203\n",
      "   26 | 01m34s |    0.87314 |             0.9867 |    1.1090 |      6.2915 |            36.3632 |      0.9731 | \n"
     ]
    },
    {
     "name": "stderr",
     "output_type": "stream",
     "text": [
      "/Users/wantingxu/anaconda2/lib/python2.7/site-packages/sklearn/gaussian_process/gpr.py:427: UserWarning: fmin_l_bfgs_b terminated abnormally with the  state: {'warnflag': 2, 'task': 'ABNORMAL_TERMINATION_IN_LNSRCH', 'grad': array([ 0.00010505]), 'nit': 7, 'funcalls': 53}\n",
      "  \" state: %s\" % convergence_dict)\n"
     ]
    },
    {
     "name": "stdout",
     "output_type": "stream",
     "text": [
      ", best_score: 0.872054, best_iteration: 217\n",
      "   27 | 00m54s |    0.87205 |             0.6198 |    0.3671 |      4.0698 |             0.1851 |      0.5069 | \n"
     ]
    },
    {
     "name": "stderr",
     "output_type": "stream",
     "text": [
      "/Users/wantingxu/anaconda2/lib/python2.7/site-packages/sklearn/gaussian_process/gpr.py:427: UserWarning: fmin_l_bfgs_b terminated abnormally with the  state: {'warnflag': 2, 'task': 'ABNORMAL_TERMINATION_IN_LNSRCH', 'grad': array([ 0.00046668]), 'nit': 7, 'funcalls': 57}\n",
      "  \" state: %s\" % convergence_dict)\n",
      "/Users/wantingxu/anaconda2/lib/python2.7/site-packages/sklearn/gaussian_process/gpr.py:427: UserWarning: fmin_l_bfgs_b terminated abnormally with the  state: {'warnflag': 2, 'task': 'ABNORMAL_TERMINATION_IN_LNSRCH', 'grad': array([-0.00049095]), 'nit': 5, 'funcalls': 49}\n",
      "  \" state: %s\" % convergence_dict)\n"
     ]
    },
    {
     "name": "stdout",
     "output_type": "stream",
     "text": [
      ", best_score: 0.872292, best_iteration: 88\n",
      "   28 | 01m21s |    0.87229 |             0.9877 |    2.9117 |      9.4115 |            28.6481 |      0.9950 | \n"
     ]
    },
    {
     "name": "stderr",
     "output_type": "stream",
     "text": [
      "/Users/wantingxu/anaconda2/lib/python2.7/site-packages/sklearn/gaussian_process/gpr.py:427: UserWarning: fmin_l_bfgs_b terminated abnormally with the  state: {'warnflag': 2, 'task': 'ABNORMAL_TERMINATION_IN_LNSRCH', 'grad': array([-0.00057621]), 'nit': 5, 'funcalls': 49}\n",
      "  \" state: %s\" % convergence_dict)\n"
     ]
    },
    {
     "name": "stdout",
     "output_type": "stream",
     "text": [
      ", best_score: 0.872550, best_iteration: 145\n",
      "   29 | 00m53s |    0.87255 |             0.5030 |    1.9353 |      6.9397 |             5.6454 |      0.9992 | \n",
      ", best_score: 0.871529, best_iteration: 106\n",
      "   30 | 00m59s |    0.87153 |             0.5046 |    2.7784 |      9.7522 |            16.7240 |      0.9903 | \n",
      ", best_score: 0.871899, best_iteration: 109\n",
      "   31 | 01m00s |    0.87190 |             0.5164 |    0.0812 |      9.3437 |            21.1192 |      0.9798 | \n",
      ", best_score: 0.872363, best_iteration: 358\n",
      "   32 | 01m13s |    0.87236 |             0.5883 |    2.0843 |      4.0106 |            39.9529 |      0.5206 | \n",
      ", best_score: 0.870271, best_iteration: 96\n",
      "   33 | 00m52s |    0.87027 |             0.5090 |    0.4969 |      9.9120 |            33.4870 |      0.5207 | \n"
     ]
    },
    {
     "name": "stderr",
     "output_type": "stream",
     "text": [
      "/Users/wantingxu/anaconda2/lib/python2.7/site-packages/sklearn/gaussian_process/gpr.py:427: UserWarning: fmin_l_bfgs_b terminated abnormally with the  state: {'warnflag': 2, 'task': 'ABNORMAL_TERMINATION_IN_LNSRCH', 'grad': array([-0.00239612]), 'nit': 6, 'funcalls': 55}\n",
      "  \" state: %s\" % convergence_dict)\n"
     ]
    },
    {
     "name": "stdout",
     "output_type": "stream",
     "text": [
      ", best_score: 0.870830, best_iteration: 79\n",
      "   34 | 00m52s |    0.87083 |             0.9277 |    1.0358 |      6.0082 |            10.4132 |      0.5038 | \n"
     ]
    },
    {
     "name": "stderr",
     "output_type": "stream",
     "text": [
      "/Users/wantingxu/anaconda2/lib/python2.7/site-packages/sklearn/gaussian_process/gpr.py:427: UserWarning: fmin_l_bfgs_b terminated abnormally with the  state: {'warnflag': 2, 'task': 'ABNORMAL_TERMINATION_IN_LNSRCH', 'grad': array([ -8.21387221e-05]), 'nit': 7, 'funcalls': 51}\n",
      "  \" state: %s\" % convergence_dict)\n"
     ]
    },
    {
     "name": "stdout",
     "output_type": "stream",
     "text": [
      ", best_score: 0.872189, best_iteration: 76\n",
      "   35 | 00m58s |    0.87219 |             0.6042 |    2.7729 |      9.9020 |             8.6126 |      0.9469 | \n",
      ", best_score: 0.872297, best_iteration: 294\n",
      "   36 | 01m04s |    0.87230 |             0.5226 |    2.9002 |      4.1636 |             0.0418 |      0.9906 | \n"
     ]
    },
    {
     "name": "stderr",
     "output_type": "stream",
     "text": [
      "/Users/wantingxu/anaconda2/lib/python2.7/site-packages/sklearn/gaussian_process/gpr.py:427: UserWarning: fmin_l_bfgs_b terminated abnormally with the  state: {'warnflag': 2, 'task': 'ABNORMAL_TERMINATION_IN_LNSRCH', 'grad': array([-0.00010806]), 'nit': 7, 'funcalls': 56}\n",
      "  \" state: %s\" % convergence_dict)\n"
     ]
    },
    {
     "name": "stdout",
     "output_type": "stream",
     "text": [
      ", best_score: 0.873447, best_iteration: 121\n",
      "   37 | 00m50s |    0.87345 |             0.5060 |    1.3994 |      6.3104 |            25.7346 |      0.9953 | \n"
     ]
    },
    {
     "name": "stderr",
     "output_type": "stream",
     "text": [
      "/Users/wantingxu/anaconda2/lib/python2.7/site-packages/sklearn/gaussian_process/gpr.py:427: UserWarning: fmin_l_bfgs_b terminated abnormally with the  state: {'warnflag': 2, 'task': 'ABNORMAL_TERMINATION_IN_LNSRCH', 'grad': array([-0.00128989]), 'nit': 5, 'funcalls': 56}\n",
      "  \" state: %s\" % convergence_dict)\n"
     ]
    },
    {
     "name": "stdout",
     "output_type": "stream",
     "text": [
      ", best_score: 0.872099, best_iteration: 356\n",
      "   38 | 01m13s |    0.87210 |             0.5152 |    0.6905 |      4.2036 |             2.1397 |      0.9677 | \n"
     ]
    },
    {
     "name": "stderr",
     "output_type": "stream",
     "text": [
      "/Users/wantingxu/anaconda2/lib/python2.7/site-packages/sklearn/gaussian_process/gpr.py:427: UserWarning: fmin_l_bfgs_b terminated abnormally with the  state: {'warnflag': 2, 'task': 'ABNORMAL_TERMINATION_IN_LNSRCH', 'grad': array([-0.00011307]), 'nit': 7, 'funcalls': 64}\n",
      "  \" state: %s\" % convergence_dict)\n"
     ]
    },
    {
     "name": "stdout",
     "output_type": "stream",
     "text": [
      ", best_score: 0.873222, best_iteration: 243\n",
      "   39 | 01m20s |    0.87322 |             0.9691 |    2.9891 |      4.0380 |             7.3846 |      0.9753 | \n",
      ", best_score: 0.872981, best_iteration: 244\n",
      "   40 | 01m12s |    0.87298 |             0.5085 |    1.7267 |      6.3200 |            31.6376 |      0.9870 | \n",
      ", best_score: 0.872535, best_iteration: 98\n",
      "   41 | 00m58s |    0.87253 |             0.5347 |    2.3486 |      9.9334 |            37.3626 |      0.9362 | \n",
      ", best_score: 0.872449, best_iteration: 75\n",
      "   42 | 01m15s |    0.87245 |             0.9832 |    0.3112 |      9.9701 |            39.7012 |      0.9531 | \n"
     ]
    },
    {
     "name": "stderr",
     "output_type": "stream",
     "text": [
      "/Users/wantingxu/anaconda2/lib/python2.7/site-packages/sklearn/gaussian_process/gpr.py:427: UserWarning: fmin_l_bfgs_b terminated abnormally with the  state: {'warnflag': 2, 'task': 'ABNORMAL_TERMINATION_IN_LNSRCH', 'grad': array([-0.00147112]), 'nit': 5, 'funcalls': 55}\n",
      "  \" state: %s\" % convergence_dict)\n"
     ]
    },
    {
     "name": "stdout",
     "output_type": "stream",
     "text": [
      ", best_score: 0.872371, best_iteration: 103\n",
      "   43 | 01m00s |    0.87237 |             0.5147 |    1.6242 |      9.9774 |            25.5424 |      0.9892 | \n",
      ", best_score: 0.873665, best_iteration: 308\n",
      "   44 | 01m34s | \u001b[35m   0.87367\u001b[0m | \u001b[32m            0.9632\u001b[0m | \u001b[32m   1.5684\u001b[0m | \u001b[32m     4.0925\u001b[0m | \u001b[32m           23.7582\u001b[0m | \u001b[32m     0.9438\u001b[0m | \n",
      ", best_score: 0.872796, best_iteration: 171\n",
      "   45 | 01m26s |    0.87280 |             0.9804 |    1.3871 |      6.5200 |            20.4272 |      0.9775 | \n"
     ]
    }
   ],
   "source": [
    "xgb_BO = BayesianOptimization(xgb_evaluate, \n",
    "                             {'max_depth': (4, 10),\n",
    "                              'min_child_weight': (0, 40),\n",
    "                              'colsample_bytree': (0.5, 1),\n",
    "                              'subsample': (0.5, 1),\n",
    "                              'gamma': (0, 3)\n",
    "                              } )\n",
    "\n",
    "xgb_BO.maximize(init_points=5, n_iter=40)"
   ]
  },
  {
   "cell_type": "code",
   "execution_count": 25,
   "metadata": {
    "collapsed": false
   },
   "outputs": [
    {
     "data": {
      "text/html": [
       "<div>\n",
       "<table border=\"1\" class=\"dataframe\">\n",
       "  <thead>\n",
       "    <tr style=\"text-align: right;\">\n",
       "      <th></th>\n",
       "      <th>colsample_bytree</th>\n",
       "      <th>gamma</th>\n",
       "      <th>max_depth</th>\n",
       "      <th>min_child_weight</th>\n",
       "      <th>subsample</th>\n",
       "      <th>score</th>\n",
       "    </tr>\n",
       "  </thead>\n",
       "  <tbody>\n",
       "    <tr>\n",
       "      <th>38</th>\n",
       "      <td>0.963205</td>\n",
       "      <td>1.568429</td>\n",
       "      <td>4.092482</td>\n",
       "      <td>23.758233</td>\n",
       "      <td>0.943751</td>\n",
       "      <td>0.873665</td>\n",
       "    </tr>\n",
       "    <tr>\n",
       "      <th>6</th>\n",
       "      <td>0.986827</td>\n",
       "      <td>2.928370</td>\n",
       "      <td>5.830526</td>\n",
       "      <td>30.118735</td>\n",
       "      <td>0.985188</td>\n",
       "      <td>0.873580</td>\n",
       "    </tr>\n",
       "    <tr>\n",
       "      <th>5</th>\n",
       "      <td>0.996259</td>\n",
       "      <td>0.255381</td>\n",
       "      <td>4.086208</td>\n",
       "      <td>27.065873</td>\n",
       "      <td>0.992757</td>\n",
       "      <td>0.873465</td>\n",
       "    </tr>\n",
       "    <tr>\n",
       "      <th>31</th>\n",
       "      <td>0.505998</td>\n",
       "      <td>1.399351</td>\n",
       "      <td>6.310354</td>\n",
       "      <td>25.734579</td>\n",
       "      <td>0.995344</td>\n",
       "      <td>0.873447</td>\n",
       "    </tr>\n",
       "    <tr>\n",
       "      <th>16</th>\n",
       "      <td>0.971618</td>\n",
       "      <td>2.823859</td>\n",
       "      <td>4.000919</td>\n",
       "      <td>32.027811</td>\n",
       "      <td>0.964636</td>\n",
       "      <td>0.873306</td>\n",
       "    </tr>\n",
       "  </tbody>\n",
       "</table>\n",
       "</div>"
      ],
      "text/plain": [
       "    colsample_bytree     gamma  max_depth  min_child_weight  subsample  \\\n",
       "38          0.963205  1.568429   4.092482         23.758233   0.943751   \n",
       "6           0.986827  2.928370   5.830526         30.118735   0.985188   \n",
       "5           0.996259  0.255381   4.086208         27.065873   0.992757   \n",
       "31          0.505998  1.399351   6.310354         25.734579   0.995344   \n",
       "16          0.971618  2.823859   4.000919         32.027811   0.964636   \n",
       "\n",
       "       score  \n",
       "38  0.873665  \n",
       "6   0.873580  \n",
       "5   0.873465  \n",
       "31  0.873447  \n",
       "16  0.873306  "
      ]
     },
     "execution_count": 25,
     "metadata": {},
     "output_type": "execute_result"
    }
   ],
   "source": [
    "# organize results\n",
    "xgb_BO_scores = pd.DataFrame(xgb_BO.res['all']['params'])\n",
    "xgb_BO_scores['score'] = pd.DataFrame(xgb_BO.res['all']['values'])\n",
    "xgb_BO_scores = xgb_BO_scores.sort_values(by='score',ascending=False)\n",
    "xgb_BO_scores.head()"
   ]
  },
  {
   "cell_type": "code",
   "execution_count": 32,
   "metadata": {
    "collapsed": false
   },
   "outputs": [],
   "source": [
    "xgb_bo_par = xgb_BO_scores.iloc[0].to_dict()\n",
    "xgb_bo_par['objective'] = 'binary:logistic'\n",
    "xgb_bo_par['seed'] = 1234\n",
    "xgb_bo_par['eval_metric'] = 'auc'\n",
    "xgb_bo_par['eta'] = 0.1\n",
    "xgb_bo_par['silent'] = 1\n",
    "xgb_bo_par['max_depth'] = int(xgb_bo_par['max_depth'])\n",
    "xgb_bo_par['min_child_weight'] = int(xgb_bo_par['min_child_weight'])\n",
    "del xgb_bo_par['score']"
   ]
  },
  {
   "cell_type": "code",
   "execution_count": 39,
   "metadata": {
    "collapsed": false
   },
   "outputs": [
    {
     "name": "stdout",
     "output_type": "stream",
     "text": [
      "[0]\ttrain-auc:0.849373\teval-auc:0.842188\n",
      "Multiple eval metrics have been passed: 'eval-auc' will be used for early stopping.\n",
      "\n",
      "Will train until eval-auc hasn't improved in 50 rounds.\n",
      "[50]\ttrain-auc:0.875133\teval-auc:0.865472\n",
      "[100]\ttrain-auc:0.886623\teval-auc:0.871241\n",
      "[150]\ttrain-auc:0.89183\teval-auc:0.872223\n",
      "[200]\ttrain-auc:0.896279\teval-auc:0.872921\n",
      "[250]\ttrain-auc:0.900059\teval-auc:0.873403\n",
      "[300]\ttrain-auc:0.903631\teval-auc:0.87361\n",
      "[350]\ttrain-auc:0.907154\teval-auc:0.873567\n",
      "Stopping. Best iteration:\n",
      "[308]\ttrain-auc:0.90436\teval-auc:0.873665\n",
      "\n",
      "best_score: 0.873665, best_iteration: 308\n"
     ]
    }
   ],
   "source": [
    "model_bo = xgb.train(xgb_bo_par, xgtrain, num_boost_round=100000, evals=watchlist,\\\n",
    "    early_stopping_rounds=50, verbose_eval=50)\n",
    "best_iteration = model_bo.best_iteration\n",
    "best_score = model_bo.best_score\n",
    "print ('best_score: %f, best_iteration: %d' % (best_score, best_iteration))"
   ]
  },
  {
   "cell_type": "code",
   "execution_count": 40,
   "metadata": {
    "collapsed": false
   },
   "outputs": [
    {
     "name": "stdout",
     "output_type": "stream",
     "text": [
      "auc roc of train: 0.908\n",
      "auc roc of validation: 0.873\n",
      "auc roc of test: 0.838\n"
     ]
    },
    {
     "data": {
      "image/png": "[encoded data removed]",
      "text/plain": [
       "<matplotlib.figure.Figure at 0x121707490>"
      ]
     },
     "metadata": {},
     "output_type": "display_data"
    },
    {
     "data": {
      "text/plain": [
       "<matplotlib.figure.Figure at 0x11adbb150>"
      ]
     },
     "metadata": {},
     "output_type": "display_data"
    },
    {
     "data": {
      "image/png": "[encoded data removed]",
      "text/plain": [
       "<matplotlib.figure.Figure at 0x121707bd0>"
      ]
     },
     "metadata": {},
     "output_type": "display_data"
    }
   ],
   "source": [
    "plotROC(model_bo)\n",
    "plotFeatureImportance(model_bo, 10)"
   ]
  },
  {
   "cell_type": "markdown",
   "metadata": {},
   "source": [
    "### save results"
   ]
  },
  {
   "cell_type": "code",
   "execution_count": 52,
   "metadata": {
    "collapsed": false
   },
   "outputs": [],
   "source": [
    "xgb_BO_scores.to_pickle('../data/xgb_BO_scores.pkl')\n",
    "\n",
    "with open('../data/xgb_pars.pkl','wb') as f:\n",
    "    pickle.dump([xgb_man_par, xgb_bo_par], f)"
   ]
  },
  {
   "cell_type": "code",
   "execution_count": null,
   "metadata": {
    "collapsed": true
   },
   "outputs": [],
   "source": []
  }
 ],
 "metadata": {
  "kernelspec": {
   "display_name": "Python 2",
   "language": "python",
   "name": "python2"
  },
  "language_info": {
   "codemirror_mode": {
    "name": "ipython",
    "version": 2
   },
   "file_extension": ".py",
   "mimetype": "text/x-python",
   "name": "python",
   "nbconvert_exporter": "python",
   "pygments_lexer": "ipython2",
   "version": "2.7.13"
  }
 },
 "nbformat": 4,
 "nbformat_minor": 0
}
