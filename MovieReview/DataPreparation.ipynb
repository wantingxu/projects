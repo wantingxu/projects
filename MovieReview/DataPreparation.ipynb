{
 "cells": [
  {
   "cell_type": "markdown",
   "metadata": {},
   "source": [
    "This script reads input from individual txt file and performs tokenization and lemmatization."
   ]
  },
  {
   "cell_type": "code",
   "execution_count": 1,
   "metadata": {
    "collapsed": true
   },
   "outputs": [],
   "source": [
    "import numpy\n",
    "import pandas as pd\n",
    "import os\n",
    "import nltk\n",
    "import string"
   ]
  },
  {
   "cell_type": "code",
   "execution_count": 2,
   "metadata": {
    "collapsed": true
   },
   "outputs": [],
   "source": [
    "def readOneReview(filename):\n",
    "    with open(filename, 'rb') as f:\n",
    "        return f.readline()"
   ]
  },
  {
   "cell_type": "code",
   "execution_count": 3,
   "metadata": {
    "collapsed": true
   },
   "outputs": [],
   "source": [
    "# read in review\n",
    "train_pos_name = os.listdir('../data/train/pos/')\n",
    "train_pos = map(lambda x: readOneReview('../data/train/pos/'+x), train_pos_name)\n",
    "\n",
    "train_neg_name = os.listdir('../data/train/neg/')\n",
    "train_neg = map(lambda x: readOneReview('../data/train/neg/'+x), train_neg_name)\n",
    "\n",
    "test_pos_name = os.listdir('../data/test/pos/')\n",
    "test_pos = map(lambda x: readOneReview('../data/test/pos/'+x), test_pos_name)\n",
    "\n",
    "test_neg_name = os.listdir('../data/test/neg/')\n",
    "test_neg = map(lambda x: readOneReview('../data/test/neg/'+x), test_neg_name)"
   ]
  },
  {
   "cell_type": "code",
   "execution_count": 4,
   "metadata": {
    "collapsed": false,
    "scrolled": true
   },
   "outputs": [
    {
     "name": "stdout",
     "output_type": "stream",
     "text": [
      "size of training data:  (25000, 2)\n",
      "                                          reviewText  sentiment\n",
      "0  Bromwell High is a cartoon comedy. It ran at t...          1\n",
      "1  Homelessness (or Houselessness as George Carli...          1\n",
      "2  Brilliant over-acting by Lesley Ann Warren. Be...          1\n",
      "3  This is easily the most underrated film inn th...          1\n",
      "4  This is not the typical Mel Brooks film. It wa...          1\n",
      "size of test data:  (25000, 2)\n",
      "                                          reviewText  sentiment\n",
      "0  I went and saw this movie last night after bei...          1\n",
      "1  Actor turned director Bill Paxton follows up h...          1\n",
      "2  As a recreational golfer with some knowledge o...          1\n",
      "3  I saw this film in a sneak preview, and it is ...          1\n",
      "4  Bill Paxton has taken the true story of the 19...          1\n"
     ]
    }
   ],
   "source": [
    "# put in data frame\n",
    "train = pd.DataFrame.from_dict({'reviewText': train_pos+train_neg, 'sentiment': [1]*12500+[0]*12500})\n",
    "test  = pd.DataFrame.from_dict({'reviewText': test_pos+test_neg, 'sentiment': [1]*12500+[0]*12500})\n",
    "\n",
    "print 'size of training data: ',train.shape\n",
    "print train.head()\n",
    "print 'size of test data: ',test.shape\n",
    "print test.head()"
   ]
  },
  {
   "cell_type": "markdown",
   "metadata": {},
   "source": [
    "### tokenization and lemmatization"
   ]
  },
  {
   "cell_type": "code",
   "execution_count": 5,
   "metadata": {
    "collapsed": true
   },
   "outputs": [],
   "source": [
    "lemmatizer = nltk.WordNetLemmatizer()\n",
    "stopwords = nltk.corpus.stopwords.words('english')\n",
    "puncTrans = string.maketrans(string.punctuation, ' ' * len(string.punctuation))"
   ]
  },
  {
   "cell_type": "code",
   "execution_count": 6,
   "metadata": {
    "collapsed": true
   },
   "outputs": [],
   "source": [
    "def TokenLemma(text):\n",
    "    text = text.replace('<br />', '')\n",
    "    text = unicode(text, \"utf-8\").encode(\"ascii\", \"ignore\")  # remove non-ascii \n",
    "    text = text.translate(puncTrans)     # Remove punctuation\n",
    "    text = nltk.word_tokenize(text)\n",
    "    text = [lemmatizer.lemmatize(x.lower(),'v') for x in text if x.lower() not in stopwords]\n",
    "    #text = map(lambda x: lemmatizer.lemmatize(x.lower(),'v'), text)\n",
    "    return ' '.join(text)"
   ]
  },
  {
   "cell_type": "code",
   "execution_count": 7,
   "metadata": {
    "collapsed": false
   },
   "outputs": [
    {
     "name": "stdout",
     "output_type": "stream",
     "text": [
      "size of processed training data:  (25000, 2)\n",
      "                                          reviewText  sentiment\n",
      "0  bromwell high cartoon comedy run time program ...          1\n",
      "1  homelessness houselessness george carlin state...          1\n",
      "2  brilliant act lesley ann warren best dramatic ...          1\n",
      "3  easily underrate film inn brook cannon sure fl...          1\n",
      "4  typical mel brook film much less slapstick mov...          1\n",
      "size of processed test data:  (25000, 2)\n",
      "                                          reviewText  sentiment\n",
      "0  go saw movie last night coax friends mine admi...          1\n",
      "1  actor turn director bill paxton follow promise...          1\n",
      "2  recreational golfer knowledge sport history pl...          1\n",
      "3  saw film sneak preview delightful cinematograp...          1\n",
      "4  bill paxton take true story 1913 us golf open ...          1\n"
     ]
    }
   ],
   "source": [
    "train['reviewText'] = map(lambda text: TokenLemma(text), train['reviewText'].values)\n",
    "test['reviewText'] = map(lambda text: TokenLemma(text), test['reviewText'].values)\n",
    "\n",
    "print 'size of processed training data: ',train.shape\n",
    "print train.head()\n",
    "print 'size of processed test data: ',test.shape\n",
    "print test.head()"
   ]
  },
  {
   "cell_type": "code",
   "execution_count": 8,
   "metadata": {
    "collapsed": true
   },
   "outputs": [],
   "source": [
    "# save\n",
    "train.to_csv('../data/trainpp.csv', index=False)\n",
    "test.to_csv('../data/testpp.csv', index=False)"
   ]
  },
  {
   "cell_type": "code",
   "execution_count": null,
   "metadata": {
    "collapsed": true
   },
   "outputs": [],
   "source": []
  }
 ],
 "metadata": {
  "kernelspec": {
   "display_name": "Python 2",
   "language": "python",
   "name": "python2"
  },
  "language_info": {
   "codemirror_mode": {
    "name": "ipython",
    "version": 2
   },
   "file_extension": ".py",
   "mimetype": "text/x-python",
   "name": "python",
   "nbconvert_exporter": "python",
   "pygments_lexer": "ipython2",
   "version": "2.7.13"
  }
 },
 "nbformat": 4,
 "nbformat_minor": 0
}
