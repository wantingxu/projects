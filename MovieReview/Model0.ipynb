{
 "cells": [
  {
   "cell_type": "markdown",
   "metadata": {},
   "source": [
    "This script explores naive Bayes, logistic regression, SVM, and neural network. For feature extraction, see FeatureExtraction.ipynb."
   ]
  },
  {
   "cell_type": "code",
   "execution_count": 1,
   "metadata": {
    "collapsed": true
   },
   "outputs": [],
   "source": [
    "import numpy as np\n",
    "import pandas as pd\n",
    "import pickle\n",
    "from matplotlib import pyplot as plt\n",
    "%matplotlib inline\n",
    "\n",
    "from sklearn.naive_bayes import MultinomialNB\n",
    "from sklearn.svm import LinearSVC, SVC\n",
    "from sklearn.linear_model import LogisticRegression\n",
    "from sklearn import metrics\n",
    "from sklearn.model_selection import train_test_split\n",
    "\n",
    "from keras.models import Model,Sequential\n",
    "from keras.layers import Input, Dense, Activation"
   ]
  },
  {
   "cell_type": "code",
   "execution_count": 2,
   "metadata": {
    "collapsed": false
   },
   "outputs": [],
   "source": [
    "# read in processed data\n",
    "train = pd.read_csv('../data/trainpp.csv')\n",
    "test = pd.read_csv('../data/testpp.csv')\n",
    "\n",
    "# read in trained tf-idf\n",
    "with open('../data/tfidf.pkl', 'r') as f:\n",
    "    [tfidf1, tfidf2] = pickle.load(f)"
   ]
  },
  {
   "cell_type": "code",
   "execution_count": 11,
   "metadata": {
    "collapsed": false
   },
   "outputs": [
    {
     "name": "stdout",
     "output_type": "stream",
     "text": [
      "size of bag-of-word features:  (25000, 10000)\n",
      "size of 2-gram features:  (25000, 20000)\n"
     ]
    }
   ],
   "source": [
    "# feature extractions\n",
    "train_features1 = tfidf1.transform(train['reviewText'])\n",
    "train_features2 = tfidf2.transform(train['reviewText'])\n",
    "\n",
    "test_features1 = tfidf1.transform(test['reviewText'])\n",
    "test_features2 = tfidf2.transform(test['reviewText'])\n",
    "\n",
    "train_y = train.sentiment.values\n",
    "test_y = test.sentiment.values\n",
    "\n",
    "print 'size of bag-of-word features: ',train_features1.shape\n",
    "print 'size of 2-gram features: ',train_features2.shape"
   ]
  },
  {
   "cell_type": "markdown",
   "metadata": {},
   "source": [
    "### naive Bayes"
   ]
  },
  {
   "cell_type": "code",
   "execution_count": 14,
   "metadata": {
    "collapsed": true
   },
   "outputs": [],
   "source": [
    "nb_model1 = MultinomialNB()\n",
    "nb_model1.fit(train_features1, train_y)\n",
    "nb_pred1 = nb_model1.predict(test_features1)\n",
    "\n",
    "nb_model2 = MultinomialNB()\n",
    "nb_model2.fit(train_features2, train_y)\n",
    "nb_pred2 = nb_model2.predict(test_features2)"
   ]
  },
  {
   "cell_type": "code",
   "execution_count": 21,
   "metadata": {
    "collapsed": false
   },
   "outputs": [
    {
     "name": "stdout",
     "output_type": "stream",
     "text": [
      "test accuracy for bag-of-word: 0.833\n",
      "             precision    recall  f1-score   support\n",
      "\n",
      "          0       0.81      0.87      0.84     12500\n",
      "          1       0.86      0.80      0.83     12500\n",
      "\n",
      "avg / total       0.84      0.83      0.83     25000\n",
      "\n",
      "test accuracy for 2-gram: 0.856\n",
      "             precision    recall  f1-score   support\n",
      "\n",
      "          0       0.85      0.87      0.86     12500\n",
      "          1       0.87      0.84      0.85     12500\n",
      "\n",
      "avg / total       0.86      0.86      0.86     25000\n",
      "\n"
     ]
    }
   ],
   "source": [
    "print 'test accuracy for bag-of-word: %0.3f'% metrics.accuracy_score(test_y, nb_pred1)\n",
    "print metrics.classification_report(test_y, nb_pred1)\n",
    "print 'test accuracy for 2-gram: %0.3f'% metrics.accuracy_score(test_y, nb_pred2)\n",
    "print metrics.classification_report(test_y, nb_pred2)"
   ]
  },
  {
   "cell_type": "markdown",
   "metadata": {},
   "source": [
    "### SVM"
   ]
  },
  {
   "cell_type": "code",
   "execution_count": 23,
   "metadata": {
    "collapsed": true
   },
   "outputs": [],
   "source": [
    "svm_model1 = LinearSVC()\n",
    "svm_model1.fit(train_features1, train_y)\n",
    "svm_pred1 = svm_model1.predict(test_features1)\n",
    "\n",
    "svm_model2 = LinearSVC()\n",
    "svm_model2.fit(train_features2, train_y)\n",
    "svm_pred2 = svm_model2.predict(test_features2)"
   ]
  },
  {
   "cell_type": "code",
   "execution_count": 24,
   "metadata": {
    "collapsed": false
   },
   "outputs": [
    {
     "name": "stdout",
     "output_type": "stream",
     "text": [
      "test accuracy for bag-of-word: 0.864\n",
      "             precision    recall  f1-score   support\n",
      "\n",
      "          0       0.86      0.88      0.87     12500\n",
      "          1       0.87      0.85      0.86     12500\n",
      "\n",
      "avg / total       0.86      0.86      0.86     25000\n",
      "\n",
      "test accuracy for 2-gram: 0.875\n",
      "             precision    recall  f1-score   support\n",
      "\n",
      "          0       0.87      0.89      0.88     12500\n",
      "          1       0.88      0.86      0.87     12500\n",
      "\n",
      "avg / total       0.88      0.88      0.88     25000\n",
      "\n"
     ]
    }
   ],
   "source": [
    "print 'test accuracy for bag-of-word: %0.3f'% metrics.accuracy_score(test_y, svm_pred1)\n",
    "print metrics.classification_report(test_y, svm_pred1)\n",
    "print 'test accuracy for 2-gram: %0.3f'% metrics.accuracy_score(test_y, svm_pred2)\n",
    "print metrics.classification_report(test_y, svm_pred2)"
   ]
  },
  {
   "cell_type": "markdown",
   "metadata": {},
   "source": [
    "### logistic regression"
   ]
  },
  {
   "cell_type": "code",
   "execution_count": 29,
   "metadata": {
    "collapsed": true
   },
   "outputs": [],
   "source": [
    "lr_model1 = LogisticRegression()\n",
    "lr_model1.fit(train_features1, train_y)\n",
    "lr_pred1 = lr_model1.predict(test_features1)\n",
    "\n",
    "lr_model2 = LogisticRegression()\n",
    "lr_model2.fit(train_features2, train_y)\n",
    "lr_pred2 = lr_model2.predict(test_features2)"
   ]
  },
  {
   "cell_type": "code",
   "execution_count": 30,
   "metadata": {
    "collapsed": false
   },
   "outputs": [
    {
     "name": "stdout",
     "output_type": "stream",
     "text": [
      "test accuracy for bag-of-word: 0.881\n",
      "             precision    recall  f1-score   support\n",
      "\n",
      "          0       0.88      0.88      0.88     12500\n",
      "          1       0.88      0.88      0.88     12500\n",
      "\n",
      "avg / total       0.88      0.88      0.88     25000\n",
      "\n",
      "test accuracy for 2-gram: 0.887\n",
      "             precision    recall  f1-score   support\n",
      "\n",
      "          0       0.89      0.89      0.89     12500\n",
      "          1       0.89      0.89      0.89     12500\n",
      "\n",
      "avg / total       0.89      0.89      0.89     25000\n",
      "\n"
     ]
    }
   ],
   "source": [
    "print 'test accuracy for bag-of-word: %0.3f'% metrics.accuracy_score(test_y, lr_pred1)\n",
    "print metrics.classification_report(test_y, lr_pred1)\n",
    "print 'test accuracy for 2-gram: %0.3f'% metrics.accuracy_score(test_y, lr_pred2)\n",
    "print metrics.classification_report(test_y, lr_pred2)"
   ]
  },
  {
   "cell_type": "markdown",
   "metadata": {},
   "source": [
    "### neural network"
   ]
  },
  {
   "cell_type": "code",
   "execution_count": 108,
   "metadata": {
    "collapsed": true
   },
   "outputs": [],
   "source": [
    "# helper function for plotting\n",
    "\n",
    "def plotFitHistory(h, nepoch):\n",
    "    # fitting history\n",
    "    # compare training, validation loss and accuracy\n",
    "    plt.figure(figsize=(10,4))\n",
    "    plt.subplot(1,2,1)\n",
    "    plt.plot(h['loss'], color='blue', marker='o', label='training loss')\n",
    "    plt.plot(h['val_loss'], color='red',marker='*', label='validation loss')\n",
    "    plt.legend(loc='right')\n",
    "    plt.xticks(range(nepoch),range(1,nepoch+1));\n",
    "    plt.xlabel('epoch')\n",
    "    # plot 2\n",
    "    plt.subplot(1,2,2)\n",
    "    plt.plot(h['acc'], color='blue', marker='o', label='training acc')\n",
    "    plt.plot(h['val_acc'], color='red',marker='*', label='validation acc')\n",
    "    plt.legend(loc='right')\n",
    "    plt.xticks(range(nepoch),range(1,nepoch+1));\n",
    "    plt.xlabel('epoch')\n",
    "    plt.show()"
   ]
  },
  {
   "cell_type": "code",
   "execution_count": 51,
   "metadata": {
    "collapsed": false
   },
   "outputs": [],
   "source": [
    "# train-validation split\n",
    "X_train1, X_val1, y_train1, y_val1 = train_test_split(train_features1, train_y,\\\n",
    "    test_size=0.3, random_state=1234, stratify = train_y)\n",
    "\n",
    "X_train2, X_val2, y_train2, y_val2 = train_test_split(train_features2, train_y,\\\n",
    "    test_size=0.3, random_state=1234, stratify = train_y)"
   ]
  },
  {
   "cell_type": "code",
   "execution_count": 126,
   "metadata": {
    "collapsed": false
   },
   "outputs": [],
   "source": [
    "inputs = Input(shape=(10000,), sparse=True)\n",
    "X = Dense(128, input_dim=10000, activation='tanh')(inputs)\n",
    "X = Dense(64, input_dim=128, activation='tanh')(X)\n",
    "Y = Dense(1, activation='sigmoid')(X)\n",
    "nn_model1 = Model(inputs=inputs, outputs=Y)\n",
    "nn_model1.compile(loss='binary_crossentropy', optimizer='adam', metrics=['accuracy'])\n",
    "\n",
    "inputs = Input(shape=(20000,), sparse=True)\n",
    "X = Dense(128, input_dim=20000, activation='tanh')(inputs)\n",
    "X = Dense(64, input_dim=128, activation='tanh')(X)\n",
    "Y = Dense(1, activation='sigmoid')(X)\n",
    "nn_model2 = Model(inputs=inputs, outputs=Y)\n",
    "nn_model2.compile(loss='binary_crossentropy', optimizer='adam', metrics=['accuracy'])"
   ]
  },
  {
   "cell_type": "markdown",
   "metadata": {},
   "source": [
    "* train_features1: bag-of-word"
   ]
  },
  {
   "cell_type": "code",
   "execution_count": 111,
   "metadata": {
    "collapsed": false,
    "scrolled": true
   },
   "outputs": [
    {
     "name": "stdout",
     "output_type": "stream",
     "text": [
      "Train on 17500 samples, validate on 7500 samples\n",
      "Epoch 1/10\n",
      "17500/17500 [==============================] - 3s - loss: 0.5066 - acc: 0.8055 - val_loss: 0.3251 - val_acc: 0.8661\n",
      "Epoch 2/10\n",
      "17500/17500 [==============================] - 1s - loss: 0.2183 - acc: 0.9175 - val_loss: 0.2781 - val_acc: 0.8883\n",
      "Epoch 3/10\n",
      "17500/17500 [==============================] - 1s - loss: 0.1328 - acc: 0.9552 - val_loss: 0.3118 - val_acc: 0.8811\n",
      "Epoch 4/10\n",
      "17500/17500 [==============================] - 1s - loss: 0.0834 - acc: 0.9775 - val_loss: 0.3739 - val_acc: 0.8733\n",
      "Epoch 5/10\n",
      "17500/17500 [==============================] - 1s - loss: 0.0503 - acc: 0.9887 - val_loss: 0.4528 - val_acc: 0.8667\n",
      "Epoch 6/10\n",
      "17500/17500 [==============================] - 1s - loss: 0.0284 - acc: 0.9963 - val_loss: 0.5395 - val_acc: 0.8612\n",
      "Epoch 7/10\n",
      "17500/17500 [==============================] - 1s - loss: 0.0154 - acc: 0.9989 - val_loss: 0.6109 - val_acc: 0.8616\n",
      "Epoch 8/10\n",
      "17500/17500 [==============================] - 1s - loss: 0.0082 - acc: 0.9998 - val_loss: 0.6757 - val_acc: 0.8595\n",
      "Epoch 9/10\n",
      "17500/17500 [==============================] - 1s - loss: 0.0048 - acc: 0.9999 - val_loss: 0.7248 - val_acc: 0.8591\n",
      "Epoch 10/10\n",
      "17500/17500 [==============================] - 1s - loss: 0.0032 - acc: 1.0000 - val_loss: 0.7640 - val_acc: 0.8573\n"
     ]
    }
   ],
   "source": [
    "nepoch1 = 10\n",
    "h1 = nn_model1.fit(X_train1, y_train1, epochs=nepoch1, batch_size=500, validation_data=(X_val1, y_val1))"
   ]
  },
  {
   "cell_type": "code",
   "execution_count": 113,
   "metadata": {
    "collapsed": false
   },
   "outputs": [
    {
     "data": {
      "image/png": "[encoded data removed]",
      "text/plain": [
       "<matplotlib.figure.Figure at 0x16976c450>"
      ]
     },
     "metadata": {},
     "output_type": "display_data"
    }
   ],
   "source": [
    "plotFitHistory(h1.history, nepoch1)"
   ]
  },
  {
   "cell_type": "code",
   "execution_count": 134,
   "metadata": {
    "collapsed": false
   },
   "outputs": [
    {
     "name": "stdout",
     "output_type": "stream",
     "text": [
      "Epoch 1/2\n",
      "25000/25000 [==============================] - 3s - loss: 0.4420 - acc: 0.8294     \n",
      "Epoch 2/2\n",
      "25000/25000 [==============================] - 1s - loss: 0.1977 - acc: 0.9237     \n"
     ]
    },
    {
     "data": {
      "text/plain": [
       "<keras.callbacks.History at 0x17828e5d0>"
      ]
     },
     "execution_count": 134,
     "metadata": {},
     "output_type": "execute_result"
    }
   ],
   "source": [
    "# train on entire training set\n",
    "inputs = Input(shape=(10000,), sparse=True)\n",
    "X = Dense(128, input_dim=10000, activation='tanh')(inputs)\n",
    "X = Dense(64, input_dim=128, activation='tanh')(X)\n",
    "Y = Dense(1, activation='sigmoid')(X)\n",
    "nn_model1 = Model(inputs=inputs, outputs=Y)\n",
    "nn_model1.compile(loss='binary_crossentropy', optimizer='adam', metrics=['accuracy'])\n",
    "\n",
    "nn_model1.fit(train_features1, train_y, epochs=2, batch_size=500)"
   ]
  },
  {
   "cell_type": "code",
   "execution_count": 142,
   "metadata": {
    "collapsed": false
   },
   "outputs": [
    {
     "name": "stdout",
     "output_type": "stream",
     "text": [
      "test accuracy for bag-of-word: 0.866\n",
      "             precision    recall  f1-score   support\n",
      "\n",
      "          0       0.85      0.89      0.87     12500\n",
      "          1       0.89      0.84      0.86     12500\n",
      "\n",
      "avg / total       0.87      0.87      0.87     25000\n",
      "\n"
     ]
    }
   ],
   "source": [
    "nn_pred1 = nn_model1.predict(test_features1)[:,0]>0.5\n",
    "\n",
    "print 'test accuracy for bag-of-word: %0.3f'% metrics.accuracy_score(test_y, nn_pred1)\n",
    "print metrics.classification_report(test_y, nn_pred1)"
   ]
  },
  {
   "cell_type": "markdown",
   "metadata": {},
   "source": [
    "* train_features2: 2-gram"
   ]
  },
  {
   "cell_type": "code",
   "execution_count": 127,
   "metadata": {
    "collapsed": false,
    "scrolled": true
   },
   "outputs": [
    {
     "name": "stdout",
     "output_type": "stream",
     "text": [
      "Train on 17500 samples, validate on 7500 samples\n",
      "Epoch 1/10\n",
      "17500/17500 [==============================] - 4s - loss: 0.4758 - acc: 0.8062 - val_loss: 0.2905 - val_acc: 0.8803\n",
      "Epoch 2/10\n",
      "17500/17500 [==============================] - 2s - loss: 0.1666 - acc: 0.9385 - val_loss: 0.2690 - val_acc: 0.8929\n",
      "Epoch 3/10\n",
      "17500/17500 [==============================] - 2s - loss: 0.0702 - acc: 0.9833 - val_loss: 0.3084 - val_acc: 0.8872\n",
      "Epoch 4/10\n",
      "17500/17500 [==============================] - 2s - loss: 0.0248 - acc: 0.9973 - val_loss: 0.3605 - val_acc: 0.8852\n",
      "Epoch 5/10\n",
      "17500/17500 [==============================] - 2s - loss: 0.0087 - acc: 0.9999 - val_loss: 0.4037 - val_acc: 0.8840\n",
      "Epoch 6/10\n",
      "17500/17500 [==============================] - 2s - loss: 0.0042 - acc: 1.0000 - val_loss: 0.4343 - val_acc: 0.8839\n",
      "Epoch 7/10\n",
      "17500/17500 [==============================] - 2s - loss: 0.0026 - acc: 1.0000 - val_loss: 0.4584 - val_acc: 0.8829\n",
      "Epoch 8/10\n",
      "17500/17500 [==============================] - 2s - loss: 0.0018 - acc: 1.0000 - val_loss: 0.4781 - val_acc: 0.8827\n",
      "Epoch 9/10\n",
      "17500/17500 [==============================] - 2s - loss: 0.0014 - acc: 1.0000 - val_loss: 0.4948 - val_acc: 0.8819\n",
      "Epoch 10/10\n",
      "17500/17500 [==============================] - 3s - loss: 0.0011 - acc: 1.0000 - val_loss: 0.5096 - val_acc: 0.8819\n"
     ]
    }
   ],
   "source": [
    "nepoch2 = 10\n",
    "h2 = nn_model2.fit(X_train2, y_train2, epochs=nepoch2, batch_size=500, validation_data=(X_val2, y_val2))"
   ]
  },
  {
   "cell_type": "code",
   "execution_count": 128,
   "metadata": {
    "collapsed": false
   },
   "outputs": [
    {
     "data": {
      "image/png": "[encoded data removed]",
      "text/plain": [
       "<matplotlib.figure.Figure at 0x17454ecd0>"
      ]
     },
     "metadata": {},
     "output_type": "display_data"
    }
   ],
   "source": [
    "plotFitHistory(h2.history, nepoch2)"
   ]
  },
  {
   "cell_type": "code",
   "execution_count": 143,
   "metadata": {
    "collapsed": false
   },
   "outputs": [
    {
     "name": "stdout",
     "output_type": "stream",
     "text": [
      "Epoch 1/2\n",
      "25000/25000 [==============================] - 5s - loss: 0.4224 - acc: 0.8450     \n",
      "Epoch 2/2\n",
      "25000/25000 [==============================] - 2s - loss: 0.1537 - acc: 0.9437     \n"
     ]
    },
    {
     "data": {
      "text/plain": [
       "<keras.callbacks.History at 0x1b3fa1950>"
      ]
     },
     "execution_count": 143,
     "metadata": {},
     "output_type": "execute_result"
    }
   ],
   "source": [
    "# train on entire training set\n",
    "inputs = Input(shape=(20000,), sparse=True)\n",
    "X = Dense(128, input_dim=20000, activation='tanh')(inputs)\n",
    "X = Dense(64, input_dim=128, activation='tanh')(X)\n",
    "Y = Dense(1, activation='sigmoid')(X)\n",
    "nn_model2 = Model(inputs=inputs, outputs=Y)\n",
    "nn_model2.compile(loss='binary_crossentropy', optimizer='adam', metrics=['accuracy'])\n",
    "\n",
    "nn_model2.fit(train_features2, train_y, epochs=2, batch_size=500)"
   ]
  },
  {
   "cell_type": "code",
   "execution_count": 144,
   "metadata": {
    "collapsed": false
   },
   "outputs": [
    {
     "name": "stdout",
     "output_type": "stream",
     "text": [
      "test accuracy for 2-gram: 0.879\n",
      "             precision    recall  f1-score   support\n",
      "\n",
      "          0       0.88      0.88      0.88     12500\n",
      "          1       0.88      0.87      0.88     12500\n",
      "\n",
      "avg / total       0.88      0.88      0.88     25000\n",
      "\n"
     ]
    }
   ],
   "source": [
    "nn_pred2 = nn_model2.predict(test_features2)[:,0]>0.5\n",
    "\n",
    "print 'test accuracy for 2-gram: %0.3f'% metrics.accuracy_score(test_y, nn_pred2)\n",
    "print metrics.classification_report(test_y, nn_pred2)"
   ]
  },
  {
   "cell_type": "code",
   "execution_count": null,
   "metadata": {
    "collapsed": true
   },
   "outputs": [],
   "source": []
  }
 ],
 "metadata": {
  "kernelspec": {
   "display_name": "Python 2",
   "language": "python",
   "name": "python2"
  },
  "language_info": {
   "codemirror_mode": {
    "name": "ipython",
    "version": 2
   },
   "file_extension": ".py",
   "mimetype": "text/x-python",
   "name": "python",
   "nbconvert_exporter": "python",
   "pygments_lexer": "ipython2",
   "version": "2.7.13"
  }
 },
 "nbformat": 4,
 "nbformat_minor": 0
}
