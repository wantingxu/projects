{
 "cells": [
  {
   "cell_type": "markdown",
   "metadata": {},
   "source": [
    "This script produces 1) word-index matrices based on GloVec for LSTM, 2) tf-idf vectorizers."
   ]
  },
  {
   "cell_type": "code",
   "execution_count": 1,
   "metadata": {
    "collapsed": true
   },
   "outputs": [],
   "source": [
    "import numpy as np\n",
    "import pandas as pd\n",
    "import nltk\n",
    "import time\n",
    "import pickle\n",
    "\n",
    "from sklearn.feature_extraction.text import TfidfVectorizer"
   ]
  },
  {
   "cell_type": "code",
   "execution_count": 2,
   "metadata": {
    "collapsed": true
   },
   "outputs": [],
   "source": [
    "# read in processed data\n",
    "train = pd.read_csv('../data/trainpp.csv')\n",
    "test = pd.read_csv('../data/testpp.csv')"
   ]
  },
  {
   "cell_type": "markdown",
   "metadata": {},
   "source": [
    "### top words"
   ]
  },
  {
   "cell_type": "code",
   "execution_count": 3,
   "metadata": {
    "collapsed": false
   },
   "outputs": [
    {
     "name": "stdout",
     "output_type": "stream",
     "text": [
      "number of unique words in training data: 64836\n"
     ]
    }
   ],
   "source": [
    "words = [w for line in train.reviewText for w in line.split()]\n",
    "vocab = nltk.FreqDist(words)\n",
    "print 'number of unique words in training data: %d' % len(vocab.keys())"
   ]
  },
  {
   "cell_type": "code",
   "execution_count": 4,
   "metadata": {
    "collapsed": false
   },
   "outputs": [],
   "source": [
    "# top n words\n",
    "\n",
    "ntop=10000\n",
    "topwords = [p[0] for p in list(vocab.most_common(ntop))]"
   ]
  },
  {
   "cell_type": "markdown",
   "metadata": {},
   "source": [
    "### GloVec word embedding"
   ]
  },
  {
   "cell_type": "code",
   "execution_count": 5,
   "metadata": {
    "collapsed": false
   },
   "outputs": [
    {
     "name": "stdout",
     "output_type": "stream",
     "text": [
      "number of words considered: 9959\n"
     ]
    }
   ],
   "source": [
    "# read in Global Vectors: https://nlp.stanford.edu/projects/glove/\n",
    "# using top words only\n",
    "word_vec_dict = {}\n",
    "with open('../data/glove.6B.100d.txt', 'rb') as f:\n",
    "    for line in f:\n",
    "        vec = line.strip().split()\n",
    "        if vec[0] in topwords:\n",
    "            word_vec_dict[vec[0]] = np.array(vec[1:], dtype=np.float64)\n",
    "        \n",
    "# word-index map\n",
    "word2index={}\n",
    "index2word={}\n",
    "i=1\n",
    "for word in sorted(word_vec_dict.keys()):\n",
    "    word2index[word]=i\n",
    "    index2word[i]=word\n",
    "    i+=1\n",
    "    \n",
    "print 'number of words considered: %d' % len(word_vec_dict)"
   ]
  },
  {
   "cell_type": "code",
   "execution_count": 6,
   "metadata": {
    "collapsed": true
   },
   "outputs": [],
   "source": [
    "# transform input text to word index\n",
    "\n",
    "def text2index(texts, maxlen):\n",
    "    res = np.zeros((len(texts), maxlen))\n",
    "    for i in range( len(texts) ):\n",
    "        text = texts[i].split()\n",
    "        k=0\n",
    "        for w in text:\n",
    "            if w in word2index.keys():\n",
    "                res[i,k] = word2index[w]\n",
    "                k+=1\n",
    "    return res"
   ]
  },
  {
   "cell_type": "code",
   "execution_count": 7,
   "metadata": {
    "collapsed": false
   },
   "outputs": [
    {
     "name": "stdout",
     "output_type": "stream",
     "text": [
      "max length of review text: 1429\n",
      "time to transform training set: 11 min\n",
      "time to transform test set: 11 min\n"
     ]
    }
   ],
   "source": [
    "# max text length\n",
    "maxlen=max(map(lambda x: len(x.split()), train.reviewText)+map(lambda x: len(x.split()), test.reviewText))\n",
    "print 'max length of review text: %d' % maxlen\n",
    "\n",
    "# transform input text to word index\n",
    "t0=time.time()\n",
    "train_x = text2index(train.reviewText, maxlen)\n",
    "print 'time to transform training set: %d min' % np.floor( (time.time()-t0)/60 )\n",
    "\n",
    "t0=time.time()\n",
    "test_x = text2index(test.reviewText, maxlen)\n",
    "print 'time to transform test set: %d min' % np.floor( (time.time()-t0)/60 )"
   ]
  },
  {
   "cell_type": "code",
   "execution_count": 8,
   "metadata": {
    "collapsed": true
   },
   "outputs": [],
   "source": [
    "# remove columns with all zero\n",
    "maxlen = np.argwhere(np.mean(np.concatenate((train_x, test_x))==0, axis=0)==1)[0][0]\n",
    "trainr_x = train_x[:,:maxlen]\n",
    "testr_x = test_x[:,:maxlen]"
   ]
  },
  {
   "cell_type": "code",
   "execution_count": 9,
   "metadata": {
    "collapsed": true
   },
   "outputs": [],
   "source": [
    "# save\n",
    "np.save('../data/trainIndex', trainr_x)\n",
    "np.save('../data/testIndex', testr_x)"
   ]
  },
  {
   "cell_type": "markdown",
   "metadata": {},
   "source": [
    "### tf-idf vectorizer"
   ]
  },
  {
   "cell_type": "markdown",
   "metadata": {},
   "source": [
    "* bag-of-words"
   ]
  },
  {
   "cell_type": "code",
   "execution_count": 5,
   "metadata": {
    "collapsed": false
   },
   "outputs": [
    {
     "name": "stdout",
     "output_type": "stream",
     "text": [
      "feature size from bag-of-words:  (25000, 10000)\n"
     ]
    }
   ],
   "source": [
    "tfidf1 = TfidfVectorizer(max_features = ntop)\n",
    "train_features1 = tfidf1.fit_transform(train['reviewText'])\n",
    "print 'feature size from bag-of-words: ',train_features1.shape"
   ]
  },
  {
   "cell_type": "markdown",
   "metadata": {},
   "source": [
    "* 2-gram"
   ]
  },
  {
   "cell_type": "code",
   "execution_count": 6,
   "metadata": {
    "collapsed": false
   },
   "outputs": [
    {
     "name": "stdout",
     "output_type": "stream",
     "text": [
      "feature size from 2-gram:  (25000, 20000)\n"
     ]
    }
   ],
   "source": [
    "tfidf2 = TfidfVectorizer(max_features = 2*ntop, ngram_range=(1,2))\n",
    "train_features2 = tfidf2.fit_transform(train['reviewText'])\n",
    "print 'feature size from 2-gram: ',train_features2.shape"
   ]
  },
  {
   "cell_type": "code",
   "execution_count": 7,
   "metadata": {
    "collapsed": false
   },
   "outputs": [],
   "source": [
    "# save\n",
    "with open('../data/tfidf.pkl', 'wb') as f:\n",
    "    pickle.dump([tfidf1, tfidf2], f)"
   ]
  },
  {
   "cell_type": "code",
   "execution_count": null,
   "metadata": {
    "collapsed": true
   },
   "outputs": [],
   "source": []
  }
 ],
 "metadata": {
  "kernelspec": {
   "display_name": "Python 2",
   "language": "python",
   "name": "python2"
  },
  "language_info": {
   "codemirror_mode": {
    "name": "ipython",
    "version": 2
   },
   "file_extension": ".py",
   "mimetype": "text/x-python",
   "name": "python",
   "nbconvert_exporter": "python",
   "pygments_lexer": "ipython2",
   "version": "2.7.13"
  }
 },
 "nbformat": 4,
 "nbformat_minor": 0
}
