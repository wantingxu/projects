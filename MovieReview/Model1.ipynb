{
 "cells": [
  {
   "cell_type": "markdown",
   "metadata": {
    "collapsed": true
   },
   "source": [
    "This script fits LSTM with keras using GloVec word representation."
   ]
  },
  {
   "cell_type": "code",
   "execution_count": 1,
   "metadata": {
    "collapsed": false
   },
   "outputs": [
    {
     "name": "stderr",
     "output_type": "stream",
     "text": [
      "Using TensorFlow backend.\n"
     ]
    }
   ],
   "source": [
    "import numpy as np\n",
    "import pandas as pd\n",
    "import nltk\n",
    "import pickle\n",
    "from matplotlib import pyplot as plt\n",
    "%matplotlib inline\n",
    "\n",
    "from keras.models import Model\n",
    "from keras.layers import Dense, Input, Dropout, LSTM, Activation, Embedding\n",
    "from keras.preprocessing import sequence\n",
    "from keras.initializers import glorot_uniform\n",
    "from sklearn.model_selection import train_test_split"
   ]
  },
  {
   "cell_type": "code",
   "execution_count": 2,
   "metadata": {
    "collapsed": false
   },
   "outputs": [
    {
     "name": "stdout",
     "output_type": "stream",
     "text": [
      "number of unique words in training data: 64836\n",
      "consider top 10000 words\n"
     ]
    }
   ],
   "source": [
    "# read in processed data\n",
    "train = pd.read_csv('../data/trainpp.csv')\n",
    "test = pd.read_csv('../data/testpp.csv')\n",
    "\n",
    "# top words\n",
    "words = [w for line in train.reviewText for w in line.split()]\n",
    "vocab = nltk.FreqDist(words)\n",
    "print 'number of unique words in training data: %d' % len(vocab.keys())\n",
    "ntop=10000\n",
    "topwords = [p[0] for p in list(vocab.most_common(ntop))]\n",
    "print 'consider top %d words' % ntop\n",
    "\n",
    "# read in Global Vectors: https://nlp.stanford.edu/projects/glove/\n",
    "# using top words only -- save computation\n",
    "word_vec_dict = {}\n",
    "with open('../data/glove.6B.100d.txt', 'rb') as f:\n",
    "    for line in f:\n",
    "        vec = line.strip().split()\n",
    "        if vec[0] in topwords:\n",
    "            word_vec_dict[vec[0]] = np.array(vec[1:], dtype=np.float64)\n",
    "        \n",
    "# word-index map\n",
    "word2index={}\n",
    "index2word={}\n",
    "i=1\n",
    "for word in sorted(word_vec_dict.keys()):\n",
    "    word2index[word]=i\n",
    "    index2word[i]=word\n",
    "    i+=1"
   ]
  },
  {
   "cell_type": "code",
   "execution_count": 3,
   "metadata": {
    "collapsed": false
   },
   "outputs": [
    {
     "name": "stdout",
     "output_type": "stream",
     "text": [
      "dimension of input review text: 1263\n"
     ]
    }
   ],
   "source": [
    "# read in word-index matrix for training and test sets\n",
    "train_x = np.load('../data/trainIndex.npy')\n",
    "test_x = np.load('../data/testIndex.npy')\n",
    "\n",
    "dinput = train_x.shape[1]\n",
    "print 'dimension of input review text: %d' % dinput"
   ]
  },
  {
   "cell_type": "code",
   "execution_count": 4,
   "metadata": {
    "collapsed": true
   },
   "outputs": [],
   "source": [
    "train_y = train.sentiment.values\n",
    "test_y = test.sentiment.values\n",
    "\n",
    "# train-validation split\n",
    "X_train, X_val, y_train, y_val = train_test_split(train_x, train_y,\\\n",
    "    test_size=0.3, random_state=1234, stratify = train_y)"
   ]
  },
  {
   "cell_type": "markdown",
   "metadata": {
    "collapsed": true
   },
   "source": [
    "* Construct a word embedding layer"
   ]
  },
  {
   "cell_type": "code",
   "execution_count": 5,
   "metadata": {
    "collapsed": true
   },
   "outputs": [],
   "source": [
    "def embeddingLayer(word_vec_dict, word2index):\n",
    "    nword = len(word_vec_dict)\n",
    "    dword = len(word_vec_dict.values()[0])\n",
    "    \n",
    "    mat = np.zeros((nword+1, dword))\n",
    "    for word,vec in word_vec_dict.items():\n",
    "        index = word2index[word]\n",
    "        mat[index,:] = vec\n",
    "        \n",
    "    return Embedding(input_dim=nword+1, output_dim=dword, trainable=False, weights=[mat])"
   ]
  },
  {
   "cell_type": "markdown",
   "metadata": {},
   "source": [
    "* LSTM model using keras"
   ]
  },
  {
   "cell_type": "code",
   "execution_count": 6,
   "metadata": {
    "collapsed": true
   },
   "outputs": [],
   "source": [
    "# construct LSTM layers\n",
    "\n",
    "np.random.seed(1234)\n",
    "X = Input(shape=(dinput,), dtype='int32')\n",
    "\n",
    "embLayer = embeddingLayer(word_vec_dict, word2index)\n",
    "emb = embLayer(X)\n",
    "\n",
    "Y = LSTM(64, dropout=0.2, recurrent_dropout=0.2)(emb)\n",
    "#Y = Dropout(0.5)(Y)\n",
    "#Y = LSTM(128, recurrent_dropout=0.5)(Y)\n",
    "#Y = Dropout(0.5)(Y)\n",
    "Y = Dense(1, activation='sigmoid')(Y)\n",
    "\n",
    "model = Model(inputs = X, outputs = Y)"
   ]
  },
  {
   "cell_type": "code",
   "execution_count": 7,
   "metadata": {
    "collapsed": false
   },
   "outputs": [
    {
     "name": "stdout",
     "output_type": "stream",
     "text": [
      "_________________________________________________________________\n",
      "Layer (type)                 Output Shape              Param #   \n",
      "=================================================================\n",
      "input_1 (InputLayer)         (None, 1263)              0         \n",
      "_________________________________________________________________\n",
      "embedding_1 (Embedding)      (None, 1263, 100)         996000    \n",
      "_________________________________________________________________\n",
      "lstm_1 (LSTM)                (None, 64)                42240     \n",
      "_________________________________________________________________\n",
      "dense_1 (Dense)              (None, 1)                 65        \n",
      "=================================================================\n",
      "Total params: 1,038,305\n",
      "Trainable params: 42,305\n",
      "Non-trainable params: 996,000\n",
      "_________________________________________________________________\n"
     ]
    }
   ],
   "source": [
    "model.summary()\n",
    "model.compile(optimizer='adam',\n",
    "              loss='binary_crossentropy',\n",
    "              metrics=['accuracy'])"
   ]
  },
  {
   "cell_type": "code",
   "execution_count": 8,
   "metadata": {
    "collapsed": false,
    "scrolled": true
   },
   "outputs": [
    {
     "name": "stdout",
     "output_type": "stream",
     "text": [
      "Train on 17500 samples, validate on 7500 samples\n",
      "Epoch 1/10\n",
      "17500/17500 [==============================] - 792s - loss: 0.6933 - acc: 0.5003 - val_loss: 0.6933 - val_acc: 0.5000\n",
      "Epoch 2/10\n",
      "17500/17500 [==============================] - 772s - loss: 0.6932 - acc: 0.4953 - val_loss: 0.6932 - val_acc: 0.5000\n",
      "Epoch 3/10\n",
      "17500/17500 [==============================] - 770s - loss: 0.6932 - acc: 0.4951 - val_loss: 0.6932 - val_acc: 0.5000\n",
      "Epoch 4/10\n",
      "17500/17500 [==============================] - 770s - loss: 0.6932 - acc: 0.4977 - val_loss: 0.6932 - val_acc: 0.5000\n",
      "Epoch 5/10\n",
      "17500/17500 [==============================] - 785s - loss: 0.6932 - acc: 0.4937 - val_loss: 0.6931 - val_acc: 0.5000\n",
      "Epoch 6/10\n",
      "17500/17500 [==============================] - 776s - loss: 0.6932 - acc: 0.4952 - val_loss: 0.6932 - val_acc: 0.5000\n",
      "Epoch 7/10\n",
      "17500/17500 [==============================] - 772s - loss: 0.6932 - acc: 0.4969 - val_loss: 0.6932 - val_acc: 0.5000\n",
      "Epoch 8/10\n",
      "17500/17500 [==============================] - 769s - loss: 0.6932 - acc: 0.4931 - val_loss: 0.6931 - val_acc: 0.5000\n",
      "Epoch 9/10\n",
      "17500/17500 [==============================] - 771s - loss: 0.6931 - acc: 0.5014 - val_loss: 0.6932 - val_acc: 0.5000\n",
      "Epoch 10/10\n",
      "17500/17500 [==============================] - 773s - loss: 0.6932 - acc: 0.5049 - val_loss: 0.6933 - val_acc: 0.5000\n"
     ]
    }
   ],
   "source": [
    "history = model.fit(X_train, y_train, epochs = 10, batch_size = 100, \\\n",
    "    validation_data=(X_val, y_val) )"
   ]
  },
  {
   "cell_type": "code",
   "execution_count": 13,
   "metadata": {
    "collapsed": false
   },
   "outputs": [
    {
     "data": {
      "text/plain": [
       "[<matplotlib.lines.Line2D at 0x161d60d10>]"
      ]
     },
     "execution_count": 13,
     "metadata": {},
     "output_type": "execute_result"
    },
    {
     "data": {
      "image/png": "[encoded data removed]",
      "text/plain": [
       "<matplotlib.figure.Figure at 0x1697ff710>"
      ]
     },
     "metadata": {},
     "output_type": "display_data"
    }
   ],
   "source": [
    "# fitting history\n",
    "h = history.history.copy()\n",
    "plt.plot(h['loss'])\n",
    "#plt.plot(h['val_acc'])\n",
    "#plt.plot(h['loss'])\n",
    "#plt.plot(h['val_loss'])"
   ]
  },
  {
   "cell_type": "code",
   "execution_count": 14,
   "metadata": {
    "collapsed": true
   },
   "outputs": [],
   "source": [
    "# save model\n",
    "with open('../data/lstm_model.json', 'w') as f:\n",
    "    f.write(model.to_json())\n",
    "\n",
    "# save model weights\n",
    "model.save_weights('../data/lstm_model.h5')"
   ]
  },
  {
   "cell_type": "code",
   "execution_count": null,
   "metadata": {
    "collapsed": true
   },
   "outputs": [],
   "source": [
    "#from keras.models import model_from_json\n",
    "\n",
    "# Load model structure\n",
    "#with open('../data/lstm_model.json', \"r\") as f:\n",
    "#    model1 = model_from_json(f.read())\n",
    "\n",
    "# Load model weights\n",
    "#model1.load_weights('../data/lstm_model.h5')\n",
    "\n",
    "#model1.compile(loss='binary_crossentropy', optimizer='adam', metrics=['accuracy'])\n",
    "\n",
    "#loss, acc = model1.evaluate(test_x, test_y)"
   ]
  },
  {
   "cell_type": "code",
   "execution_count": null,
   "metadata": {
    "collapsed": true
   },
   "outputs": [],
   "source": []
  }
 ],
 "metadata": {
  "kernelspec": {
   "display_name": "Python 2",
   "language": "python",
   "name": "python2"
  },
  "language_info": {
   "codemirror_mode": {
    "name": "ipython",
    "version": 2
   },
   "file_extension": ".py",
   "mimetype": "text/x-python",
   "name": "python",
   "nbconvert_exporter": "python",
   "pygments_lexer": "ipython2",
   "version": "2.7.13"
  }
 },
 "nbformat": 4,
 "nbformat_minor": 0
}
